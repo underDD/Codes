{
  "cells": [
    {
      "cell_type": "markdown",
      "metadata": {
        "id": "vTbS-MYU4Co2"
      },
      "source": [
        "**texto en negrita**<h1> Quantum measurements, Heisenberg's uncertainty principle and Bell inequalities </h1>\n",
        "\n",
        "<h2>Simulating a measurement on a qubit</h2>"
      ]
    },
    {
      "cell_type": "markdown",
      "metadata": {
        "id": "w3uDynyx4Co5"
      },
      "source": [
        "<h3>We import all the required libraries</h3>\n",
        "\n",
        "We also import some extra ones just in case"
      ]
    },
    {
      "cell_type": "code",
      "execution_count": 2,
      "metadata": {
        "tags": [],
        "colab": {
          "base_uri": "https://localhost:8080/",
          "height": 366
        },
        "id": "X93JX6HD4Co6",
        "outputId": "e9efd4b2-c5fe-4874-f92c-8057e9c9db4e"
      },
      "outputs": [
        {
          "output_type": "error",
          "ename": "ModuleNotFoundError",
          "evalue": "No module named 'qutip'",
          "traceback": [
            "\u001b[0;31m---------------------------------------------------------------------------\u001b[0m",
            "\u001b[0;31mModuleNotFoundError\u001b[0m                       Traceback (most recent call last)",
            "\u001b[0;32m<ipython-input-2-d5d61df4c987>\u001b[0m in \u001b[0;36m<cell line: 6>\u001b[0;34m()\u001b[0m\n\u001b[1;32m      4\u001b[0m \u001b[0;32mimport\u001b[0m \u001b[0mnumpy\u001b[0m \u001b[0;32mas\u001b[0m \u001b[0mnp\u001b[0m\u001b[0;34m\u001b[0m\u001b[0;34m\u001b[0m\u001b[0m\n\u001b[1;32m      5\u001b[0m \u001b[0;32mfrom\u001b[0m \u001b[0mnumpy\u001b[0m\u001b[0;34m.\u001b[0m\u001b[0mlinalg\u001b[0m \u001b[0;32mimport\u001b[0m \u001b[0meig\u001b[0m\u001b[0;34m\u001b[0m\u001b[0;34m\u001b[0m\u001b[0m\n\u001b[0;32m----> 6\u001b[0;31m \u001b[0;32mfrom\u001b[0m \u001b[0mqutip\u001b[0m \u001b[0;32mimport\u001b[0m \u001b[0;34m*\u001b[0m\u001b[0;34m\u001b[0m\u001b[0;34m\u001b[0m\u001b[0m\n\u001b[0m\u001b[1;32m      7\u001b[0m \u001b[0mplt\u001b[0m\u001b[0;34m.\u001b[0m\u001b[0mrcParams\u001b[0m\u001b[0;34m[\u001b[0m\u001b[0;34m\"figure.figsize\"\u001b[0m\u001b[0;34m]\u001b[0m \u001b[0;34m=\u001b[0m \u001b[0;34m(\u001b[0m\u001b[0;36m12\u001b[0m\u001b[0;34m,\u001b[0m\u001b[0;36m9\u001b[0m\u001b[0;34m)\u001b[0m\u001b[0;34m\u001b[0m\u001b[0;34m\u001b[0m\u001b[0m\n",
            "\u001b[0;31mModuleNotFoundError\u001b[0m: No module named 'qutip'",
            "",
            "\u001b[0;31m---------------------------------------------------------------------------\u001b[0;32m\nNOTE: If your import is failing due to a missing package, you can\nmanually install dependencies using either !pip or !apt.\n\nTo view examples of installing some common dependencies, click the\n\"Open Examples\" button below.\n\u001b[0;31m---------------------------------------------------------------------------\u001b[0m\n"
          ],
          "errorDetails": {
            "actions": [
              {
                "action": "open_url",
                "actionText": "Open Examples",
                "url": "/notebooks/snippets/importing_libraries.ipynb"
              }
            ]
          }
        }
      ],
      "source": [
        "%matplotlib inline\n",
        "#from IPython.display import display\n",
        "import matplotlib.pyplot as plt\n",
        "import numpy as np\n",
        "from numpy.linalg import eig\n",
        "from qutip import *\n",
        "plt.rcParams[\"figure.figsize\"] = (12,9)"
      ]
    },
    {
      "cell_type": "code",
      "execution_count": null,
      "metadata": {
        "tags": [],
        "id": "UjtTWvds4Co7"
      },
      "outputs": [],
      "source": [
        "# Define the Phv measurement operator:\n",
        "MOpz= sigmaz()\n",
        "MOpx= sigmax()\n",
        "MOpy= sigmay()"
      ]
    },
    {
      "cell_type": "code",
      "execution_count": null,
      "metadata": {
        "tags": [],
        "id": "T0iPvMeL4Co7"
      },
      "outputs": [],
      "source": [
        "ψ = ((2-1j)*basis(2,0)+(1-3j)*basis(2,1)).unit()\n",
        "ψ2=(basis(2,0)+basis(2,1)).unit()\n",
        "ψ3=basis(2,0)"
      ]
    },
    {
      "cell_type": "markdown",
      "metadata": {
        "id": "tGF_CLI94Co8"
      },
      "source": [
        "<h3> Function to generate the lab results </h3>\n",
        "\n",
        "The function to generate a data set of $N$ possible results for the measure of the 3 values of the spin operators on a randomly generated state.\n",
        "\n",
        "The function uses the numpy function\n",
        "\n",
        "random.choice(set_of_allowed_results, number_of_results_to_generate, probabilities_of_the_allowed_results)\n"
      ]
    },
    {
      "cell_type": "code",
      "execution_count": null,
      "metadata": {
        "tags": [],
        "id": "XE1_286J4Co8"
      },
      "outputs": [],
      "source": [
        "def GenerateLabResults(N):\n",
        "    state=((np.random.random()+1j*np.random.random())*basis(2,0)+(np.random.random())*basis(2,1)).unit()\n",
        "    oper=[0.5*sigmax(), 0.5*sigmay(), 0.5*sigmaz()]\n",
        "    data=[]\n",
        "    for k in oper:\n",
        "        eigenv1 = k.eigenstates()[1][0]\n",
        "        eigenv2 = k.eigenstates()[1][1]\n",
        "        allowed_results = k.eigenstates()[0]\n",
        "        probability_amps = [qo.full()[0][0] for qo in [eigenv1.dag()*state, eigenv2.dag()*state]]\n",
        "        pvals = [abs(pa.conjugate()*pa) for pa in probability_amps]\n",
        "        dataK=np.random.choice(allowed_results,size=N, p=pvals)\n",
        "        data.append(dataK)\n",
        "        print(state)\n",
        "    return data"
      ]
    },
    {
      "cell_type": "markdown",
      "metadata": {
        "id": "q41E5SU_4Co8"
      },
      "source": [
        "<h3> Statistical tools of the set of measurements </h3>\n",
        "\n",
        "We have created a set of possible lab results for the three operators. From these \"experimental\" results we can try to identify their properties:\n",
        "\n",
        "* data.var(): variance of the set \"data\"\n",
        "\n",
        "* data.mean(): mean of the set \"data\"\n",
        "\n",
        "* plt.hist(real(data)): represent a histogram from the results in the set \"data\""
      ]
    },
    {
      "cell_type": "code",
      "execution_count": null,
      "metadata": {
        "tags": [],
        "id": "BOzN9JIO4Co9",
        "outputId": "8e09ce95-aa7e-4dea-a3e1-eeebdc733988"
      },
      "outputs": [
        {
          "name": "stdout",
          "output_type": "stream",
          "text": [
            "Quantum object: dims = [[2], [1]], shape = (2, 1), type = ket\n",
            "Qobj data =\n",
            "[[0.23574593+0.97181377j]\n",
            " [0.00136382+0.j        ]]\n",
            "Quantum object: dims = [[2], [1]], shape = (2, 1), type = ket\n",
            "Qobj data =\n",
            "[[0.23574593+0.97181377j]\n",
            " [0.00136382+0.j        ]]\n",
            "Quantum object: dims = [[2], [1]], shape = (2, 1), type = ket\n",
            "Qobj data =\n",
            "[[0.23574593+0.97181377j]\n",
            " [0.00136382+0.j        ]]\n"
          ]
        }
      ],
      "source": [
        "datax,datay,dataz=GenerateLabResults(1000000)\n",
        "sx=datax.mean()\n",
        "sy=datay.mean()\n",
        "sz=dataz.mean()"
      ]
    },
    {
      "cell_type": "code",
      "execution_count": null,
      "metadata": {
        "tags": [],
        "id": "Q6jJwETU4Co-",
        "outputId": "7211e96d-ee3f-4add-a790-f672982ec1ab"
      },
      "outputs": [
        {
          "name": "stdout",
          "output_type": "stream",
          "text": [
            "Variance:  0.24999999651900007\n",
            "Mean:  5.9e-05\n"
          ]
        }
      ],
      "source": [
        "print(\"Variance: \",datax.var())\n",
        "print(\"Mean: \",datax.mean())"
      ]
    },
    {
      "cell_type": "code",
      "execution_count": null,
      "metadata": {
        "tags": [],
        "id": "no9i9QW44Co-",
        "outputId": "8e16f772-e726-412a-9af1-6e37974b16e9"
      },
      "outputs": [
        {
          "name": "stdout",
          "output_type": "stream",
          "text": [
            "Variance:  0.24999470539899987\n",
            "Mean:  -0.002301\n"
          ]
        }
      ],
      "source": [
        "print(\"Variance: \",datay.var())\n",
        "print(\"Mean: \",datay.mean())"
      ]
    },
    {
      "cell_type": "code",
      "execution_count": null,
      "metadata": {
        "tags": [],
        "id": "e2MIT8TV4Co-",
        "outputId": "4259bf28-2675-4977-e754-26ffb45424af"
      },
      "outputs": [
        {
          "name": "stdout",
          "output_type": "stream",
          "text": [
            "Variance:  3.999983999999991e-06\n",
            "Mean:  0.499996\n"
          ]
        }
      ],
      "source": [
        "print(\"Variance: \",dataz.var())\n",
        "print(\"Mean: \",dataz.mean())"
      ]
    },
    {
      "cell_type": "code",
      "execution_count": null,
      "metadata": {
        "tags": [],
        "id": "JpKKwMKO4Co-",
        "outputId": "f08dd8a9-3e1a-4ec2-d23a-5d0a949e6051"
      },
      "outputs": [
        {
          "data": {
            "text/plain": [
              "(array([499941.,      0.,      0.,      0.,      0.,      0.,      0.,\n",
              "             0.,      0., 500059.]),\n",
              " array([-0.5, -0.4, -0.3, -0.2, -0.1,  0. ,  0.1,  0.2,  0.3,  0.4,  0.5]),\n",
              " <BarContainer object of 10 artists>)"
            ]
          },
          "execution_count": 66,
          "metadata": {},
          "output_type": "execute_result"
        },
        {
          "data": {
            "image/png": "[encoded data removed]",
            "text/plain": [
              "<Figure size 1200x900 with 1 Axes>"
            ]
          },
          "metadata": {},
          "output_type": "display_data"
        }
      ],
      "source": [
        "plt.hist(np.real(datax))"
      ]
    },
    {
      "cell_type": "code",
      "execution_count": null,
      "metadata": {
        "tags": [],
        "id": "xQyn9C5I4Co_",
        "outputId": "d12cfbf4-3305-4585-cf4d-6ec00681fb7d"
      },
      "outputs": [
        {
          "data": {
            "text/plain": [
              "(array([502301.,      0.,      0.,      0.,      0.,      0.,      0.,\n",
              "             0.,      0., 497699.]),\n",
              " array([-0.5, -0.4, -0.3, -0.2, -0.1,  0. ,  0.1,  0.2,  0.3,  0.4,  0.5]),\n",
              " <BarContainer object of 10 artists>)"
            ]
          },
          "execution_count": 67,
          "metadata": {},
          "output_type": "execute_result"
        },
        {
          "data": {
            "image/png": "[encoded data removed]",
            "text/plain": [
              "<Figure size 1200x900 with 1 Axes>"
            ]
          },
          "metadata": {},
          "output_type": "display_data"
        }
      ],
      "source": [
        "plt.hist(np.real(datay))"
      ]
    },
    {
      "cell_type": "code",
      "execution_count": null,
      "metadata": {
        "tags": [],
        "id": "B4ZEtQCA4Co_",
        "outputId": "e4311cdc-a987-4d8c-a2f3-133995c41f72"
      },
      "outputs": [
        {
          "data": {
            "text/plain": [
              "(array([4.00000e+00, 0.00000e+00, 0.00000e+00, 0.00000e+00, 0.00000e+00,\n",
              "        0.00000e+00, 0.00000e+00, 0.00000e+00, 0.00000e+00, 9.99996e+05]),\n",
              " array([-0.5, -0.4, -0.3, -0.2, -0.1,  0. ,  0.1,  0.2,  0.3,  0.4,  0.5]),\n",
              " <BarContainer object of 10 artists>)"
            ]
          },
          "execution_count": 68,
          "metadata": {},
          "output_type": "execute_result"
        },
        {
          "data": {
            "image/png": "[encoded data removed]",
            "text/plain": [
              "<Figure size 1200x900 with 1 Axes>"
            ]
          },
          "metadata": {},
          "output_type": "display_data"
        }
      ],
      "source": [
        "plt.hist(np.real(dataz))"
      ]
    },
    {
      "cell_type": "code",
      "execution_count": null,
      "metadata": {
        "tags": [],
        "id": "K5kBjUsW4Co_",
        "outputId": "1e288799-25b1-49a4-bccb-2b8bffb9ac6f"
      },
      "outputs": [
        {
          "data": {
            "text/html": [
              "<table><tr><th>Software</th><th>Version</th></tr><tr><td>QuTiP</td><td>4.7.5</td></tr><tr><td>Numpy</td><td>1.24.3</td></tr><tr><td>SciPy</td><td>1.11.1</td></tr><tr><td>matplotlib</td><td>3.7.2</td></tr><tr><td>Cython</td><td>3.0.9</td></tr><tr><td>Number of CPUs</td><td>6</td></tr><tr><td>BLAS Info</td><td>INTEL MKL</td></tr><tr><td>IPython</td><td>8.15.0</td></tr><tr><td>Python</td><td>3.11.5 | packaged by Anaconda, Inc. | (main, Sep 11 2023, 13:26:23) [MSC v.1916 64 bit (AMD64)]</td></tr><tr><td>OS</td><td>nt [win32]</td></tr><tr><td colspan='2'>Sun Mar 17 12:01:18 2024 Hora estándar romance</td></tr></table>"
            ],
            "text/plain": [
              "<IPython.core.display.HTML object>"
            ]
          },
          "execution_count": 69,
          "metadata": {},
          "output_type": "execute_result"
        }
      ],
      "source": [
        "from qutip.ipynbtools import version_table\n",
        "\n",
        "version_table()"
      ]
    },
    {
      "cell_type": "markdown",
      "metadata": {
        "tags": [],
        "id": "GtedlVOX4CpA"
      },
      "source": [
        "## Ejercicio 4.1. La medida cuántica."
      ]
    },
    {
      "cell_type": "markdown",
      "metadata": {
        "tags": [],
        "id": "1ApzTyLX4CpA"
      },
      "source": [
        "## M1. Se identifique el estado con el que se han generado las medidas. ¿Es posible determinar completamente el vector de $\\mathbb{C}^2$ que determina el estado, según el postulado I? ¿Por qué?"
      ]
    },
    {
      "cell_type": "markdown",
      "metadata": {
        "id": "CEmiFP0z4CpA"
      },
      "source": [
        "La forma general de un estado en forma polar biene dada por:\n",
        "\n",
        "$$\n",
        "    |\\psi\\rangle = \\begin{pmatrix} r_1 e^{i\\theta_1} \\\\ r_2 e^{i\\theta_2} \\end{pmatrix} \\qquad r_1,r_2,\\theta_1,\\theta_2 \\in \\mathbb{C}\n",
        "$$"
      ]
    },
    {
      "cell_type": "markdown",
      "metadata": {
        "id": "QfqK_JI24CpA"
      },
      "source": [
        "A partir de las medidas de los observables $\\hat\\sigma_x,\\hat\\sigma_y,\\hat\\sigma_z$ podemos obtener información del estado utilizdo. Debido al primer postulado no podemos conocer el estado en su totalidad, la excepción es una constante compleja $\\lambda$ que lo multiplica. Por lo tanto, podremos conocer el estado en la forma:\n",
        "\n",
        "$$\n",
        "    |\\psi\\rangle = \\lambda \\begin{pmatrix} r_1 \\\\ r_2 e^{i\\varphi} \\end{pmatrix} \\qquad \\varphi=\\theta_2-\\theta_1 \\qquad \\lambda \\in \\mathbb{C}\n",
        "$$"
      ]
    },
    {
      "cell_type": "markdown",
      "metadata": {
        "id": "pBWGV8Ff4CpA"
      },
      "source": [
        "Para conocer las componentes del estado calculamos el valor esperado de los operadores, $\\langle\\hat\\sigma_x\\rangle$, $\\langle\\hat\\sigma_y\\rangle$, $\\langle\\hat\\sigma_z\\rangle$.\n",
        "\n",
        "$$\n",
        "    \\langle\\hat\\sigma_x\\rangle = \\langle\\psi | \\hat\\sigma_x | \\psi\\rangle = 2r_1r_2cos\\varphi\n",
        "    \\\\ \\langle\\hat\\sigma_y\\rangle = \\langle\\psi | \\hat\\sigma_y | \\psi\\rangle = 2r_1r_2sin\\varphi\n",
        "    \\\\ \\langle\\hat\\sigma_z\\rangle = \\langle\\psi | \\hat\\sigma_z | \\psi\\rangle = r_1^2-r_2^2\n",
        "$$\n",
        "\n",
        "Resolviendo el sistema de ecuaciones llegamos a la expresión para cada componente:\n",
        "\n",
        "$$\n",
        "    r_1 = \\sqrt{\\frac{1}{2}(1+\\langle\\hat\\sigma_z\\rangle)}\n",
        "    \\\\ r_2 = \\sqrt{\\frac{1}{2}(1-\\langle\\hat\\sigma_z\\rangle)}\n",
        "    \\\\ \\varphi = arccos(\\frac{\\langle\\hat\\sigma_x\\rangle}{2r_1r_2})\n",
        "$$"
      ]
    },
    {
      "cell_type": "code",
      "execution_count": 1,
      "metadata": {
        "tags": [],
        "colab": {
          "base_uri": "https://localhost:8080/",
          "height": 211
        },
        "id": "lvF_hwVJ4CpB",
        "outputId": "c4e959bc-0c0a-468c-8f17-028939363722"
      },
      "outputs": [
        {
          "output_type": "error",
          "ename": "NameError",
          "evalue": "name 'np' is not defined",
          "traceback": [
            "\u001b[0;31m---------------------------------------------------------------------------\u001b[0m",
            "\u001b[0;31mNameError\u001b[0m                                 Traceback (most recent call last)",
            "\u001b[0;32m<ipython-input-1-9213cf49353d>\u001b[0m in \u001b[0;36m<cell line: 1>\u001b[0;34m()\u001b[0m\n\u001b[0;32m----> 1\u001b[0;31m \u001b[0mr1\u001b[0m \u001b[0;34m=\u001b[0m \u001b[0mnp\u001b[0m\u001b[0;34m.\u001b[0m\u001b[0msqrt\u001b[0m\u001b[0;34m(\u001b[0m\u001b[0;34m(\u001b[0m\u001b[0;36m1\u001b[0m\u001b[0;34m+\u001b[0m\u001b[0mdataz\u001b[0m\u001b[0;34m.\u001b[0m\u001b[0mmean\u001b[0m\u001b[0;34m(\u001b[0m\u001b[0;34m)\u001b[0m\u001b[0;34m*\u001b[0m\u001b[0;36m2\u001b[0m\u001b[0;34m)\u001b[0m\u001b[0;34m*\u001b[0m\u001b[0;36m0.5\u001b[0m\u001b[0;34m)\u001b[0m\u001b[0;34m\u001b[0m\u001b[0;34m\u001b[0m\u001b[0m\n\u001b[0m\u001b[1;32m      2\u001b[0m \u001b[0mr2\u001b[0m \u001b[0;34m=\u001b[0m \u001b[0mnp\u001b[0m\u001b[0;34m.\u001b[0m\u001b[0msqrt\u001b[0m\u001b[0;34m(\u001b[0m\u001b[0;34m(\u001b[0m\u001b[0;36m1\u001b[0m\u001b[0;34m-\u001b[0m\u001b[0mdataz\u001b[0m\u001b[0;34m.\u001b[0m\u001b[0mmean\u001b[0m\u001b[0;34m(\u001b[0m\u001b[0;34m)\u001b[0m\u001b[0;34m*\u001b[0m\u001b[0;36m2\u001b[0m\u001b[0;34m)\u001b[0m\u001b[0;34m*\u001b[0m\u001b[0;36m0.5\u001b[0m\u001b[0;34m)\u001b[0m\u001b[0;34m\u001b[0m\u001b[0;34m\u001b[0m\u001b[0m\n\u001b[1;32m      3\u001b[0m \u001b[0mϕ\u001b[0m \u001b[0;34m=\u001b[0m \u001b[0mnp\u001b[0m\u001b[0;34m.\u001b[0m\u001b[0marccos\u001b[0m\u001b[0;34m(\u001b[0m\u001b[0mdatax\u001b[0m\u001b[0;34m.\u001b[0m\u001b[0mmean\u001b[0m\u001b[0;34m(\u001b[0m\u001b[0;34m)\u001b[0m\u001b[0;34m/\u001b[0m\u001b[0;34m(\u001b[0m\u001b[0mr1\u001b[0m\u001b[0;34m*\u001b[0m\u001b[0mr2\u001b[0m\u001b[0;34m)\u001b[0m\u001b[0;34m)\u001b[0m\u001b[0;34m\u001b[0m\u001b[0;34m\u001b[0m\u001b[0m\n\u001b[1;32m      4\u001b[0m \u001b[0;34m\u001b[0m\u001b[0m\n\u001b[1;32m      5\u001b[0m \u001b[0ma\u001b[0m \u001b[0;34m=\u001b[0m \u001b[0mnp\u001b[0m\u001b[0;34m.\u001b[0m\u001b[0mcos\u001b[0m\u001b[0;34m(\u001b[0m\u001b[0mϕ\u001b[0m\u001b[0;34m)\u001b[0m\u001b[0;34m*\u001b[0m\u001b[0mr2\u001b[0m\u001b[0;34m\u001b[0m\u001b[0;34m\u001b[0m\u001b[0m\n",
            "\u001b[0;31mNameError\u001b[0m: name 'np' is not defined"
          ]
        }
      ],
      "source": [
        "r1 = np.sqrt((1+dataz.mean()*2)*0.5)\n",
        "r2 = np.sqrt((1-dataz.mean()*2)*0.5)\n",
        "ϕ = np.arccos(datax.mean()/(r1*r2))\n",
        "\n",
        "a = np.cos(ϕ)*r2\n",
        "b = np.sqrt(r2*r2-a*a)\n",
        "\n",
        "ψ = basis(2,0)*r1 + basis(2,1)*(r2*np.cos(ϕ)+r2*np.sin(ϕ)*1j)\n",
        "\n",
        "ψ"
      ]
    },
    {
      "cell_type": "markdown",
      "metadata": {
        "id": "I7qIGw8-4CpB"
      },
      "source": [
        "El motivo por el que no podemos determinar completamente un estado es debido a que un mismo rayo cuántico está describe igualmente por un estado $|\\psi\\rangle$ que por un estado $\\lambda|\\psi\\rangle$, por lo tanto no podemos saber cual le corresponde exactamente."
      ]
    },
    {
      "cell_type": "markdown",
      "metadata": {
        "tags": [],
        "id": "cbNfSD2m4CpB"
      },
      "source": [
        "## M2. Estudiar cómo depende del tamaño de la muestra de puntos el error cometido al estimar los valores medios de las tres componentes del espín con la funciónanterior, que emplea una muestra finita."
      ]
    },
    {
      "cell_type": "code",
      "execution_count": null,
      "metadata": {
        "id": "tGgrc3s44CpB"
      },
      "outputs": [],
      "source": []
    },
    {
      "cell_type": "markdown",
      "metadata": {
        "tags": [],
        "id": "wmw3ditp4CpC"
      },
      "source": [
        "## Ejercicio 4.2. El principio de incertidumbre."
      ]
    },
    {
      "cell_type": "markdown",
      "metadata": {
        "tags": [],
        "id": "32EdKz3c4CpC"
      },
      "source": [
        "## I1. Resolver el ejercicio 2.1"
      ]
    },
    {
      "cell_type": "markdown",
      "metadata": {
        "id": "5WZZHKh-4CpC"
      },
      "source": [
        "$$\n",
        "\\hat A \\hat B=\\frac 12(\\hat A \\hat B+\\hat B \\hat A)+\\frac 12(\\hat A \\hat B- \\hat B \\hat A)=\\frac 12[\\hat A\\hat B]_+ +\\frac i2[\\hat A\\hat B]\n",
        "$$"
      ]
    },
    {
      "cell_type": "markdown",
      "metadata": {
        "id": "nDp7EjRi4CpD"
      },
      "source": [
        "Donde:\n",
        "$$\n",
        "    [\\hat A,\\hat B]_+=\\hat A\\hat B+\\hat A\\hat B \\qquad y  \\qquad [\\hat A,\\hat B]=-i(\\hat A\\hat B-\\hat A\\hat B)\n",
        "$$"
      ]
    },
    {
      "cell_type": "markdown",
      "metadata": {
        "tags": [],
        "id": "q13ewBzn4CpD"
      },
      "source": [
        "En general se deben cumlpir las siguientes propiedades:\n",
        "- El producto de los operadores autoadjuntos $\\hat A\\hat B$ no tiene por qué ser autoadjunto a su vez, sólo lo será en el caso de que ambos operadores conmuten.\n",
        "- El anticonmutador $[\\hat A,\\hat B]_+$ de dos operadores autoadjuntos siempre es autoadjunto.\n",
        "- El conmutador de dos operadores autoadjuntos $[\\hat A,\\hat B]$ , tal como se ha definido (con la unidad imaginaria), es siempre autoadjunto.\n",
        "\n",
        "Demostración:"
      ]
    },
    {
      "cell_type": "markdown",
      "metadata": {
        "tags": [],
        "id": "trPxqxxX4CpD"
      },
      "source": [
        "- El producto de los operadores autoadjuntos $\\hat A\\hat B$ no tiene por qué ser autoadjunto a su vez,  sólo lo será en el caso de que ambos operadores conmuten:\n",
        "\n",
        "$$\n",
        "(\\hat A\\hat B)^\\dagger=\\hat B^\\dagger \\hat A^\\dagger=\\hat B\\hat A=\\hat A\\hat B\n",
        "$$\n",
        "\n",
        "La última igualdad sólo ocurre en el caso de que $\\hat A$ y $\\hat B$ conmuten."
      ]
    },
    {
      "cell_type": "markdown",
      "metadata": {
        "id": "Fi2zpcvL4CpD"
      },
      "source": [
        "- El anticonmutador $[\\hat A,\\hat B]_+$ de dos operadores autoadjuntos siempre es autoadjunto:\n",
        "\n",
        "Es autoadjunto si $ [\\hat A,\\hat B]_+ ^ \\dagger = [\\hat A,\\hat B]_+ $\n",
        "\n",
        "$$\n",
        "[\\hat A,\\hat B]_+ ^ {\\dagger} = (\\hat A\\hat B+\\hat B\\hat A) ^ \\dagger = (\\hat A\\hat B)^\\dagger+(\\hat B\\hat A)^\\dagger=\\hat B^\\dagger\\hat A^\\dagger+\\hat A^\\dagger\\hat B^\\dagger=\\hat B\\hat A+\\hat A\\hat B=[\\hat A,\\hat B]_+  \n",
        "$$  \n"
      ]
    },
    {
      "cell_type": "markdown",
      "metadata": {
        "id": "6qycfO2b4CpD"
      },
      "source": [
        "- El conmutador de dos operadores autoadjuntos $[\\hat A,\\hat B]$ , tal como se ha definido (con la unidad imaginaria), es siempre autoadjunto.\n",
        "\n",
        "Es autoadjunto si $ [\\hat A,\\hat B] ^ \\dagger = [\\hat A,\\hat B] $\n",
        "\n",
        "$$\n",
        "[\\hat A,\\hat B]^\\dagger=[-i(\\hat A\\hat B-\\hat B\\hat A)]^\\dagger=i(\\hat A\\hat B,\\hat B\\hat A)^\\dagger=i[(\\hat A\\hat B)^\\dagger-(\\hat B\\hat A)^\\dagger]=i(\\hat B\\hat A-\\hat A\\hat B)=-i(\\hat A\\hat B-\\hat B\\hat A)=[\\hat A,\\hat B]\n",
        "$$\n"
      ]
    },
    {
      "cell_type": "markdown",
      "metadata": {
        "id": "nNCVSK4H4CpD"
      },
      "source": [
        "## I2. Empleando las funciones de qutip (expect(operator, state) y variance(operator, state)) Construir un pequeño programa para verificar la fórmula (26) para el caso:"
      ]
    },
    {
      "cell_type": "markdown",
      "metadata": {
        "id": "4wY9bHcI4CpD"
      },
      "source": [
        "$$\n",
        "\\hat A = \\hat\\sigma_{x} \\qquad \\hat B = \\hat\\sigma_z\n",
        "$$"
      ]
    },
    {
      "cell_type": "markdown",
      "metadata": {
        "id": "WEjlJZVm4CpD"
      },
      "source": [
        "Y evaluarlo en los estados:\n",
        "$$\n",
        "|\\psi_1\\rangle = |+\\rangle\n",
        "\\\\ |\\psi_2\\rangle = (0,160+0,801i)|+\\rangle-(0,320+0,480i)|-\\rangle\n",
        "\\\\ |\\psi_3\\rangle = \\frac{1}{\\sqrt2}(|+\\rangle+|-\\rangle)\n",
        "$$"
      ]
    },
    {
      "cell_type": "markdown",
      "metadata": {
        "id": "D1d0RBMO4CpE"
      },
      "source": [
        "La fórmula (26) es:\n",
        "\n",
        "$$\n",
        "    \\Delta\\hat A\\Delta\\hat B\\geq\\frac{1}{2}|\\langle\\psi|[\\hat A,\\hat B]|\\psi\\rangle|\n",
        "$$"
      ]
    },
    {
      "cell_type": "code",
      "execution_count": null,
      "metadata": {
        "tags": [],
        "id": "cOI9VEoI4CpE",
        "outputId": "b7362263-7bbd-4886-f449-a81b5a8f5bb7"
      },
      "outputs": [
        {
          "name": "stdout",
          "output_type": "stream",
          "text": [
            "Se cumple\n",
            "0.0 0.0\n",
            "Se cumple\n",
            "0.4623994865034745 -0.71808\n",
            "Se cumple\n",
            "1.4901161193847655e-08 0.0\n"
          ]
        }
      ],
      "source": [
        "A = sigmax()\n",
        "B = sigmaz()\n",
        "\n",
        "a = 0.160 + 0.801j\n",
        "b = -0.320 - 0.480j\n",
        "\n",
        "ψ1 = basis(2,0)\n",
        "ψ2 = a*basis(2,0)+b*basis(2,1)\n",
        "ψ3 = (basis(2,0)+basis(2,1)).unit()\n",
        "\n",
        "def conmutador(A,B):\n",
        "    return -1j*(A*B-B*A)\n",
        "\n",
        "def incertidumbre(A,ψ):\n",
        "    return np.sqrt(variance(A, ψ))\n",
        "\n",
        "def Heisenberg(A,B,ψ):\n",
        "    I = incertidumbre(A,ψ)*incertidumbre(B,ψ)\n",
        "    E = expect(conmutador(A,B),ψ)\n",
        "    if (I >= 0.5*E):\n",
        "        print(\"Se cumple\")\n",
        "        print(I,E)\n",
        "    else:\n",
        "        print(\"No se cumple\")\n",
        "        print(I,E)\n",
        "\n",
        "Heisenberg(A,B,ψ1)\n",
        "Heisenberg(A,B,ψ2)\n",
        "Heisenberg(A,B,ψ3)"
      ]
    },
    {
      "cell_type": "markdown",
      "metadata": {
        "tags": [],
        "id": "3guwhbg84CpE"
      },
      "source": [
        "- ¿En qué ocasiones existirá la posibilidad de medir experimentalmente componentes del espín de una partícula de forma absolutamente precisa?\n",
        "\n",
        "Únicamente se podrá conocer en el caso de que el autoestado no esté entrelazado, es decir, no estén mezclados las componentes $|+\\rangle$ y $|-\\rangle$. En este caso esto ocurre para el estado $|\\psi_1\\rangle$."
      ]
    },
    {
      "cell_type": "markdown",
      "metadata": {
        "id": "pRTNP00q4CpI"
      },
      "source": [
        "- ¿Es posible medir simultaneamente dos componentes cualesquiera en algún estado? ¿Y las tres?"
      ]
    },
    {
      "cell_type": "markdown",
      "metadata": {
        "id": "zyvUmNhL4CpI"
      },
      "source": [
        "- ¿Existe esa posibilidad para los operadores posición y momento actuando en un espacio de Hilbert funcional $\\mathcal{L}^2 (D),d\\mu$? ¿Por qué?"
      ]
    },
    {
      "cell_type": "markdown",
      "metadata": {
        "id": "TTHAHnUz4CpI"
      },
      "source": [
        "## Ejercicio 4.3. El teorema de Bell."
      ]
    },
    {
      "cell_type": "markdown",
      "metadata": {
        "tags": [],
        "id": "emXsw-pR4CpI"
      },
      "source": [
        "## B1. Ejercicio 2.2"
      ]
    },
    {
      "cell_type": "markdown",
      "metadata": {
        "id": "LEsCuhWH4CpI"
      },
      "source": [
        "## B2. Estudiar el Teorema 2.1"
      ]
    },
    {
      "cell_type": "code",
      "execution_count": null,
      "metadata": {
        "tags": [],
        "id": "Dgyhqp784CpI",
        "outputId": "d8e4e78b-f264-437a-c85a-59c61a9d19a9"
      },
      "outputs": [
        {
          "name": "stdout",
          "output_type": "stream",
          "text": [
            "Se cumple\n",
            "0.0\n",
            "Se cumple\n",
            "0.0\n",
            "Se cumple\n",
            "-1.414213562373095\n",
            "Se cumple\n",
            "-1.4142135623730947\n"
          ]
        }
      ],
      "source": [
        "Q = tensor(sigmaz(),qeye(2))\n",
        "R = tensor(sigmax(),qeye(2))\n",
        "S = -tensor(qeye(2),sigmaz()*sigmaz()+sigmax()*sigmax())/np.sqrt(2)\n",
        "T = tensor(qeye(2),sigmaz()*sigmaz()-sigmax()*sigmax())/np.sqrt(2)\n",
        "\n",
        "def bell(ψ):\n",
        "    C=Q*S+R*S+R*T-Q*T\n",
        "    if (expect(C,ψ)<=2):\n",
        "        print(\"Se cumple\")\n",
        "        print(expect(C,ψ))\n",
        "    else:\n",
        "        print(\"No se cumple\")\n",
        "\n",
        "## Estados. ψ1 y ψ3 con Clebsh-Gordan\n",
        "\n",
        "ψ1 = (tensor(basis(2,0),basis(2,1))-tensor(basis(2,1),basis(2,0)))/np.sqrt(2)\n",
        "ψ2 = (tensor(basis(2,0),basis(2,0))-tensor(basis(2,1),basis(2,1)))/np.sqrt(2)\n",
        "ψ3 = tensor(basis(2,0),basis(2,0))\n",
        "ψ4 = (tensor(basis(2,0),basis(2,1))+tensor(basis(2,0),basis(2,0)))/np.sqrt(2)\n",
        "\n",
        "bell(ψ1)\n",
        "bell(ψ2)\n",
        "bell(ψ3)\n",
        "bell(ψ4)"
      ]
    },
    {
      "cell_type": "markdown",
      "metadata": {
        "id": "T_wAC-lu4CpI"
      },
      "source": [
        "## B3. ¿Cualquier sistema cuántico va a violar la desigualdad de Bell para cualquier conjunto de operadores? ¿Siempre lo hará si se encuentra en un estado entrelazado? ¿Existe un conjunto de operadores adaptados al estado |Ψ2〉?"
      ]
    },
    {
      "cell_type": "code",
      "execution_count": null,
      "metadata": {
        "id": "aOT766fh4CpJ"
      },
      "outputs": [],
      "source": []
    }
  ],
  "metadata": {
    "kernelspec": {
      "display_name": "Python 3 (ipykernel)",
      "language": "python",
      "name": "python3"
    },
    "language_info": {
      "codemirror_mode": {
        "name": "ipython",
        "version": 3
      },
      "file_extension": ".py",
      "mimetype": "text/x-python",
      "name": "python",
      "nbconvert_exporter": "python",
      "pygments_lexer": "ipython3",
      "version": "3.11.5"
    },
    "colab": {
      "provenance": []
    }
  },
  "nbformat": 4,
  "nbformat_minor": 0
}