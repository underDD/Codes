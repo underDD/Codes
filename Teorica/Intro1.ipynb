{
 "cells": [
  {
   "cell_type": "markdown",
   "id": "protective-financing",
   "metadata": {},
   "source": [
    "# Intro 1: Linear states and operators\n",
    "\n",
    "Material adapted from https://github.com/amcdawes/QMlabs. I also recommend\n",
    "https://github.com/jrjohansson/scientific-python-lectures for a much more general approach to Pyhton"
   ]
  },
  {
   "cell_type": "markdown",
   "id": "material-respect",
   "metadata": {},
   "source": [
    "### Part I: vectors in linear spaces"
   ]
  },
  {
   "cell_type": "markdown",
   "id": "technological-scanner",
   "metadata": {},
   "source": [
    "Python has several tools to handle linear states. The functions belong to numpy and scipy libraries. In order to use them, we must load them before calling them. Usually, we include a few lines at the beginning of the code or the notebook\n"
   ]
  },
  {
   "cell_type": "code",
   "execution_count": 10,
   "id": "afraid-nursery",
   "metadata": {
    "tags": []
   },
   "outputs": [],
   "source": [
    "#from numpy import array, dot, outer, sqrt, matrix, trace\n",
    "#from numpy.linalg import eig, eigvals\n",
    "\n",
    "import numpy as np\n",
    "import numpy.linalg as linalg #Sublibreria de numpy para diagonalizar\n"
   ]
  },
  {
   "cell_type": "markdown",
   "id": "superior-amsterdam",
   "metadata": {},
   "source": [
    "Vectors are defined as arrays. Row vectors are introduced as a single array, column vectors as an array of 1-arrays"
   ]
  },
  {
   "cell_type": "code",
   "execution_count": 11,
   "id": "external-brazil",
   "metadata": {
    "tags": []
   },
   "outputs": [
    {
     "data": {
      "text/plain": [
       "array([1., 2., 3.])"
      ]
     },
     "execution_count": 11,
     "metadata": {},
     "output_type": "execute_result"
    }
   ],
   "source": [
    "rv = np.array([1.0,2, 3])  # a row 3-vector Row of colums\n",
    "rv"
   ]
  },
  {
   "cell_type": "code",
   "execution_count": 12,
   "id": "personal-relevance",
   "metadata": {
    "tags": []
   },
   "outputs": [
    {
     "data": {
      "text/plain": [
       "array([[3],\n",
       "       [4],\n",
       "       [5]])"
      ]
     },
     "execution_count": 12,
     "metadata": {},
     "output_type": "execute_result"
    }
   ],
   "source": [
    "cv = np.array([[3],[4],[5]])  # a column 3-vector Colum of rows\n",
    "cv"
   ]
  },
  {
   "cell_type": "code",
   "execution_count": 13,
   "id": "victorian-entity",
   "metadata": {
    "tags": []
   },
   "outputs": [],
   "source": [
    "A=np.array([[1,2,3],[2,4,5],[1,1,1]]) #Row made of rows"
   ]
  },
  {
   "cell_type": "code",
   "execution_count": 14,
   "id": "6ce6bfe7-ae2a-4f5e-953e-0f9d275f2b67",
   "metadata": {
    "tags": []
   },
   "outputs": [
    {
     "data": {
      "text/plain": [
       "array([[1, 2, 3],\n",
       "       [2, 4, 5],\n",
       "       [1, 1, 1]])"
      ]
     },
     "execution_count": 14,
     "metadata": {},
     "output_type": "execute_result"
    }
   ],
   "source": [
    "A"
   ]
  },
  {
   "cell_type": "markdown",
   "id": "greater-liquid",
   "metadata": {},
   "source": [
    "We can operate with vectors, using scalar (dot) or vector (outer) products. Remember that they are not commutative!!"
   ]
  },
  {
   "cell_type": "code",
   "execution_count": 15,
   "id": "stable-mercury",
   "metadata": {
    "tags": []
   },
   "outputs": [
    {
     "data": {
      "text/plain": [
       "array([26.])"
      ]
     },
     "execution_count": 15,
     "metadata": {},
     "output_type": "execute_result"
    }
   ],
   "source": [
    "np.dot(rv,cv) #PRODUCTO ESCALAR (Row)(Colum)"
   ]
  },
  {
   "cell_type": "code",
   "execution_count": 16,
   "id": "a51fd9f7-118c-4d8e-8e58-d39604ff8520",
   "metadata": {
    "tags": []
   },
   "outputs": [
    {
     "data": {
      "text/plain": [
       "array([26.])"
      ]
     },
     "execution_count": 16,
     "metadata": {},
     "output_type": "execute_result"
    }
   ],
   "source": [
    "rv@cv"
   ]
  },
  {
   "cell_type": "code",
   "execution_count": 17,
   "id": "searching-workshop",
   "metadata": {
    "tags": []
   },
   "outputs": [
    {
     "ename": "ValueError",
     "evalue": "shapes (3,1) and (3,) not aligned: 1 (dim 1) != 3 (dim 0)",
     "output_type": "error",
     "traceback": [
      "\u001b[1;31m---------------------------------------------------------------------------\u001b[0m",
      "\u001b[1;31mValueError\u001b[0m                                Traceback (most recent call last)",
      "Cell \u001b[1;32mIn[17], line 1\u001b[0m\n\u001b[1;32m----> 1\u001b[0m np\u001b[38;5;241m.\u001b[39mdot(cv,rv)\n",
      "File \u001b[1;32m<__array_function__ internals>:200\u001b[0m, in \u001b[0;36mdot\u001b[1;34m(*args, **kwargs)\u001b[0m\n",
      "\u001b[1;31mValueError\u001b[0m: shapes (3,1) and (3,) not aligned: 1 (dim 1) != 3 (dim 0)"
     ]
    }
   ],
   "source": [
    "np.dot(cv,rv) #np.dot NO (Colum)(Row) "
   ]
  },
  {
   "cell_type": "code",
   "execution_count": 18,
   "id": "dangerous-gardening",
   "metadata": {
    "tags": []
   },
   "outputs": [
    {
     "data": {
      "text/plain": [
       "array([[26],\n",
       "       [47],\n",
       "       [12]])"
      ]
     },
     "execution_count": 18,
     "metadata": {},
     "output_type": "execute_result"
    }
   ],
   "source": [
    "np.dot(A,cv) #Matrix(Colum)"
   ]
  },
  {
   "cell_type": "code",
   "execution_count": 19,
   "id": "e4ebefb3-ef77-46e5-8235-244f6e13ec0e",
   "metadata": {
    "tags": []
   },
   "outputs": [
    {
     "data": {
      "text/plain": [
       "array([[26],\n",
       "       [47],\n",
       "       [12]])"
      ]
     },
     "execution_count": 19,
     "metadata": {},
     "output_type": "execute_result"
    }
   ],
   "source": [
    "A@cv"
   ]
  },
  {
   "cell_type": "code",
   "execution_count": 20,
   "id": "incorporated-retail",
   "metadata": {
    "tags": []
   },
   "outputs": [
    {
     "data": {
      "text/plain": [
       "array([[ 3.,  4.,  5.],\n",
       "       [ 6.,  8., 10.],\n",
       "       [ 9., 12., 15.]])"
      ]
     },
     "execution_count": 20,
     "metadata": {},
     "output_type": "execute_result"
    }
   ],
   "source": [
    "np.outer(rv,cv) #Estern product (Colum)(Row)=matrix"
   ]
  },
  {
   "cell_type": "code",
   "execution_count": 21,
   "id": "corrected-lebanon",
   "metadata": {
    "tags": []
   },
   "outputs": [
    {
     "data": {
      "text/plain": [
       "array([[ 3.,  6.,  9.],\n",
       "       [ 4.,  8., 12.],\n",
       "       [ 5., 10., 15.]])"
      ]
     },
     "execution_count": 21,
     "metadata": {},
     "output_type": "execute_result"
    }
   ],
   "source": [
    "np.outer(cv,rv)"
   ]
  },
  {
   "cell_type": "markdown",
   "id": "serious-abraham",
   "metadata": {},
   "source": [
    "### Part II: Complex numbers"
   ]
  },
  {
   "cell_type": "markdown",
   "id": "forty-canada",
   "metadata": {},
   "source": [
    "Imaginary unit in Python is represented by a j. "
   ]
  },
  {
   "cell_type": "code",
   "execution_count": 22,
   "id": "hawaiian-treasure",
   "metadata": {
    "tags": []
   },
   "outputs": [],
   "source": [
    "α=2+1j"
   ]
  },
  {
   "cell_type": "code",
   "execution_count": 23,
   "id": "metallic-bloom",
   "metadata": {
    "tags": []
   },
   "outputs": [
    {
     "data": {
      "text/plain": [
       "(2+1j)"
      ]
     },
     "execution_count": 23,
     "metadata": {},
     "output_type": "execute_result"
    }
   ],
   "source": [
    "α"
   ]
  },
  {
   "cell_type": "code",
   "execution_count": 24,
   "id": "studied-marketing",
   "metadata": {
    "tags": []
   },
   "outputs": [
    {
     "data": {
      "text/plain": [
       "array([1.+2.j, 3.+2.j, 5.+1.j, 4.+0.j])"
      ]
     },
     "execution_count": 24,
     "metadata": {},
     "output_type": "execute_result"
    }
   ],
   "source": [
    "v1 = np.array([1+2j, 3+2j, 5+1j, 4])\n",
    "v1"
   ]
  },
  {
   "cell_type": "markdown",
   "id": "leading-tennessee",
   "metadata": {},
   "source": [
    "A complex object admits some operations made on it. Thus, we can define its conjugate as\n",
    "v1.conjugate()"
   ]
  },
  {
   "cell_type": "code",
   "execution_count": 25,
   "id": "novel-shakespeare",
   "metadata": {
    "tags": []
   },
   "outputs": [
    {
     "data": {
      "text/plain": [
       "array([1.-2.j, 3.-2.j, 5.-1.j, 4.-0.j])"
      ]
     },
     "execution_count": 25,
     "metadata": {},
     "output_type": "execute_result"
    }
   ],
   "source": [
    "v1.conjugate()"
   ]
  },
  {
   "cell_type": "markdown",
   "id": "brave-black",
   "metadata": {},
   "source": [
    "We can combine the vector operations and the complex operations:"
   ]
  },
  {
   "cell_type": "code",
   "execution_count": 26,
   "id": "fluid-regression",
   "metadata": {
    "tags": []
   },
   "outputs": [
    {
     "data": {
      "text/plain": [
       "(42+26j)"
      ]
     },
     "execution_count": 26,
     "metadata": {},
     "output_type": "execute_result"
    }
   ],
   "source": [
    "np.dot(v1,v1) #Escalar porduct"
   ]
  },
  {
   "cell_type": "code",
   "execution_count": 27,
   "id": "6778c662-e641-4af9-b1c9-bb719b1d7a75",
   "metadata": {
    "tags": []
   },
   "outputs": [
    {
     "data": {
      "text/plain": [
       "(60+0j)"
      ]
     },
     "execution_count": 27,
     "metadata": {},
     "output_type": "execute_result"
    }
   ],
   "source": [
    "np.vdot(v1,v1) #Hermitian product "
   ]
  },
  {
   "cell_type": "markdown",
   "id": "metric-vacuum",
   "metadata": {},
   "source": [
    "### Part III: higher dimensional arrays\n",
    "\n",
    "Matrices and higher dimensional arrays can be introduced, as \"arrays of arrays\":"
   ]
  },
  {
   "cell_type": "code",
   "execution_count": 28,
   "id": "comparative-concord",
   "metadata": {
    "tags": []
   },
   "outputs": [
    {
     "data": {
      "text/plain": [
       "array([[2, 1],\n",
       "       [2, 1]])"
      ]
     },
     "execution_count": 28,
     "metadata": {},
     "output_type": "execute_result"
    }
   ],
   "source": [
    "# a two-dimensional array\n",
    "m1 = np.array([[2,1],[2,1]]) #2x2\n",
    "m1"
   ]
  },
  {
   "cell_type": "code",
   "execution_count": 29,
   "id": "protected-junction",
   "metadata": {
    "tags": []
   },
   "outputs": [
    {
     "data": {
      "text/plain": [
       "array([[[2, 1],\n",
       "        [2, 1]],\n",
       "\n",
       "       [[3, 2],\n",
       "        [3, 2]]])"
      ]
     },
     "execution_count": 29,
     "metadata": {},
     "output_type": "execute_result"
    }
   ],
   "source": [
    "# a three-dimensional array (a \"cubic hypermatrix\")\n",
    "m2 = np.array([[[2,1],[2,1]], [[3,2],[3,2]]]) #hypercubic matrix matriz de matrices\n",
    "m2 "
   ]
  },
  {
   "cell_type": "code",
   "execution_count": 69,
   "id": "blind-commander",
   "metadata": {
    "tags": []
   },
   "outputs": [
    {
     "data": {
      "text/plain": [
       "2"
      ]
     },
     "execution_count": 69,
     "metadata": {},
     "output_type": "execute_result"
    }
   ],
   "source": [
    "m2[1,1,1] #El primer indice, accede a la matriz que sea, los otros dos nos dan la posicion de la variable en esa matriz"
   ]
  },
  {
   "cell_type": "markdown",
   "id": "3455edb7-62e6-4c1e-ad3f-ac7fa61b4da6",
   "metadata": {},
   "source": [
    "Arrays can be defined implicitly with loops and conditional statements. In this type of commands it is important to remember how indices represent objects in lists."
   ]
  },
  {
   "cell_type": "code",
   "execution_count": 31,
   "id": "9d9a5d36-3f5b-4edc-991f-783fd7843e2b",
   "metadata": {
    "tags": []
   },
   "outputs": [
    {
     "data": {
      "text/plain": [
       "[0, 1, 2, 3, 4, 5, 6, 7, 8, 9]"
      ]
     },
     "execution_count": 31,
     "metadata": {},
     "output_type": "execute_result"
    }
   ],
   "source": [
    "list=[k for k in range(10)]\n",
    "list"
   ]
  },
  {
   "cell_type": "code",
   "execution_count": null,
   "id": "5fb210c4-5020-4617-98f6-19a663b4a2b4",
   "metadata": {},
   "outputs": [],
   "source": []
  },
  {
   "cell_type": "code",
   "execution_count": 32,
   "id": "af663da8-d165-45b6-8758-8d5e81e723de",
   "metadata": {
    "tags": []
   },
   "outputs": [
    {
     "data": {
      "text/plain": [
       "10"
      ]
     },
     "execution_count": 32,
     "metadata": {},
     "output_type": "execute_result"
    }
   ],
   "source": [
    "len(list)"
   ]
  },
  {
   "cell_type": "code",
   "execution_count": 33,
   "id": "a345b5d9-c08b-4d34-8d3b-b8d154e0bb0f",
   "metadata": {
    "tags": []
   },
   "outputs": [
    {
     "data": {
      "text/plain": [
       "[array([[6, 3],\n",
       "        [6, 3]]),\n",
       " array([[15, 10],\n",
       "        [15, 10]])]"
      ]
     },
     "execution_count": 33,
     "metadata": {},
     "output_type": "execute_result"
    }
   ],
   "source": [
    "[k@k for k in m2] #lista: k=0-->entrada 0 del array m2 (primera matriz), la multiplica por si misma. Eso forma el primer elemento de la nueva lista"
   ]
  },
  {
   "cell_type": "markdown",
   "id": "extended-spouse",
   "metadata": {},
   "source": [
    "### Part IV: Operations on matrices\n",
    "\n",
    "Numpy offers functions to operate on matrices, implementing the most common algebraic tools"
   ]
  },
  {
   "cell_type": "markdown",
   "id": "soviet-digest",
   "metadata": {},
   "source": [
    "A)Hermitian conjugate or transpose are obtained with the  T  or conjugate() suffix"
   ]
  },
  {
   "cell_type": "code",
   "execution_count": 34,
   "id": "experienced-confidence",
   "metadata": {
    "tags": []
   },
   "outputs": [
    {
     "data": {
      "text/plain": [
       "array([[2, 2],\n",
       "       [1, 1]])"
      ]
     },
     "execution_count": 34,
     "metadata": {},
     "output_type": "execute_result"
    }
   ],
   "source": [
    "m1.T"
   ]
  },
  {
   "cell_type": "code",
   "execution_count": 35,
   "id": "possible-pixel",
   "metadata": {
    "tags": []
   },
   "outputs": [
    {
     "data": {
      "text/plain": [
       "array([[0.+2.j, 1.-1.j],\n",
       "       [2.+4.j, 3.+0.j]])"
      ]
     },
     "execution_count": 35,
     "metadata": {},
     "output_type": "execute_result"
    }
   ],
   "source": [
    "m3=np.array([[2j, 1-1j],[2+4j, 3]])\n",
    "m3"
   ]
  },
  {
   "cell_type": "code",
   "execution_count": 36,
   "id": "entitled-joining",
   "metadata": {
    "tags": []
   },
   "outputs": [
    {
     "data": {
      "text/plain": [
       "array([[0.+2.j, 2.+4.j],\n",
       "       [1.-1.j, 3.+0.j]])"
      ]
     },
     "execution_count": 36,
     "metadata": {},
     "output_type": "execute_result"
    }
   ],
   "source": [
    "m3.T"
   ]
  },
  {
   "cell_type": "code",
   "execution_count": 37,
   "id": "accepting-hometown",
   "metadata": {
    "tags": []
   },
   "outputs": [
    {
     "data": {
      "text/plain": [
       "array([[0.-2.j, 1.+1.j],\n",
       "       [2.-4.j, 3.-0.j]])"
      ]
     },
     "execution_count": 37,
     "metadata": {},
     "output_type": "execute_result"
    }
   ],
   "source": [
    "m3.conjugate()"
   ]
  },
  {
   "cell_type": "code",
   "execution_count": 38,
   "id": "simple-danish",
   "metadata": {
    "tags": []
   },
   "outputs": [
    {
     "data": {
      "text/plain": [
       "array([[0.-2.j, 2.-4.j],\n",
       "       [1.+1.j, 3.-0.j]])"
      ]
     },
     "execution_count": 38,
     "metadata": {},
     "output_type": "execute_result"
    }
   ],
   "source": [
    "(m3.T).conjugate() #Hermitica (Cuidado con los parentesis)"
   ]
  },
  {
   "cell_type": "markdown",
   "id": "d3894002-30f6-442b-bbe0-bf12e5609356",
   "metadata": {},
   "source": [
    "Notice that some of these commands depend on the type of object you act on"
   ]
  },
  {
   "cell_type": "code",
   "execution_count": 70,
   "id": "94bf0fff-5e55-40ae-aaad-37d1b0268439",
   "metadata": {
    "tags": []
   },
   "outputs": [
    {
     "data": {
      "text/plain": [
       "matrix([[0.-2.j, 2.-4.j],\n",
       "        [1.+1.j, 3.-0.j]])"
      ]
     },
     "execution_count": 70,
     "metadata": {},
     "output_type": "execute_result"
    }
   ],
   "source": [
    "np.matrix(m3).H #El modificador H (conjugacion hermitica) solo funciona para np.matrix()"
   ]
  },
  {
   "cell_type": "markdown",
   "id": "congressional-dressing",
   "metadata": {},
   "source": [
    "B) Eigenvectors and eigenvalues: are obtained using the \"eig\" command. The output is common with other math software, such as octave"
   ]
  },
  {
   "cell_type": "code",
   "execution_count": 72,
   "id": "presidential-gentleman",
   "metadata": {
    "tags": []
   },
   "outputs": [
    {
     "data": {
      "text/plain": [
       "(array([3., 0.]),\n",
       " array([[ 0.70710678, -0.4472136 ],\n",
       "        [ 0.70710678,  0.89442719]]))"
      ]
     },
     "execution_count": 72,
     "metadata": {},
     "output_type": "execute_result"
    }
   ],
   "source": [
    "linalg.eig(m1) #Diagonaliza"
   ]
  },
  {
   "cell_type": "code",
   "execution_count": 41,
   "id": "structured-footage",
   "metadata": {
    "tags": []
   },
   "outputs": [],
   "source": [
    "evals, evecs =linalg.eig(m3) #evals-->autovalores, #evec-->autovectores"
   ]
  },
  {
   "cell_type": "code",
   "execution_count": 42,
   "id": "complicated-skirt",
   "metadata": {
    "tags": []
   },
   "outputs": [
    {
     "data": {
      "text/plain": [
       "array([-1.198948+1.18525737j,  4.198948+0.81474263j])"
      ]
     },
     "execution_count": 42,
     "metadata": {},
     "output_type": "execute_result"
    }
   ],
   "source": [
    "evals"
   ]
  },
  {
   "cell_type": "code",
   "execution_count": 43,
   "id": "dried-hepatitis",
   "metadata": {
    "tags": []
   },
   "outputs": [
    {
     "data": {
      "text/plain": [
       "array([[-0.13087644+0.68594735j,  0.2690619 -0.15060148j],\n",
       "       [ 0.71578459+0.j        ,  0.9512754 +0.j        ]])"
      ]
     },
     "execution_count": 43,
     "metadata": {},
     "output_type": "execute_result"
    }
   ],
   "source": [
    "evecs"
   ]
  },
  {
   "cell_type": "code",
   "execution_count": 44,
   "id": "latest-small",
   "metadata": {
    "tags": []
   },
   "outputs": [
    {
     "data": {
      "text/plain": [
       "array([-0.13087644+0.68594735j,  0.71578459+0.j        ])"
      ]
     },
     "execution_count": 44,
     "metadata": {},
     "output_type": "execute_result"
    }
   ],
   "source": [
    "evecs[:,0] #Fija la fila y coge la coluna n y [i,:] viceversa"
   ]
  },
  {
   "cell_type": "code",
   "execution_count": 45,
   "id": "traditional-times",
   "metadata": {
    "tags": []
   },
   "outputs": [
    {
     "data": {
      "text/plain": [
       "array([0.2690619-0.15060148j, 0.9512754+0.j        ])"
      ]
     },
     "execution_count": 45,
     "metadata": {},
     "output_type": "execute_result"
    }
   ],
   "source": [
    "evecs[:,1]"
   ]
  },
  {
   "cell_type": "markdown",
   "id": "corresponding-vanilla",
   "metadata": {},
   "source": [
    "These arrays can be indexed directly because of the vectoriality. This makes the code simple and easy to read"
   ]
  },
  {
   "cell_type": "code",
   "execution_count": 73,
   "id": "brazilian-forestry",
   "metadata": {
    "tags": []
   },
   "outputs": [
    {
     "name": "stdout",
     "output_type": "stream",
     "text": [
      "(array([3., 0.]), array([[ 0.70710678, -0.4472136 ],\n",
      "       [ 0.70710678,  0.89442719]]))\n",
      "(array([5., 0.]), array([[ 0.70710678, -0.5547002 ],\n",
      "       [ 0.70710678,  0.83205029]]))\n"
     ]
    }
   ],
   "source": [
    "for k in m2: #m2 lista de dos matrices\n",
    "    print(linalg.eig(k)) #imprime los atovalores y autovectores de cada matriz"
   ]
  },
  {
   "cell_type": "code",
   "execution_count": 47,
   "id": "handmade-sociology",
   "metadata": {
    "tags": []
   },
   "outputs": [],
   "source": [
    "Trace_m2=[np.trace(k) for k in m2] #lista de trazas de las dos matrices"
   ]
  },
  {
   "cell_type": "code",
   "execution_count": 48,
   "id": "terminal-international",
   "metadata": {
    "tags": []
   },
   "outputs": [
    {
     "data": {
      "text/plain": [
       "[3, 5]"
      ]
     },
     "execution_count": 48,
     "metadata": {},
     "output_type": "execute_result"
    }
   ],
   "source": [
    "Trace_m2"
   ]
  },
  {
   "cell_type": "markdown",
   "id": "eight-allocation",
   "metadata": {},
   "source": [
    "# Using Qutip\n",
    "We can reproduce the tools above inside the qutip-library. States are specified as bra's or ket's, following Dirac notation, and there exists an operation to dualize $|\\psi\\rangle\\to \\langle \\psi|$. States (kets) are considered to be column vectors, and co-states (bras), row vectors. \n",
    "\n",
    "Vamos a ver como hace todo esto QUTIP."
   ]
  },
  {
   "cell_type": "code",
   "execution_count": 79,
   "id": "handled-bathroom",
   "metadata": {
    "tags": []
   },
   "outputs": [],
   "source": [
    "from qutip import *"
   ]
  },
  {
   "cell_type": "code",
   "execution_count": 80,
   "id": "settled-checklist",
   "metadata": {
    "tags": []
   },
   "outputs": [
    {
     "data": {
      "text/latex": [
       "Quantum object: dims = [[2], [1]], shape = (2, 1), type = ket $ \\\\ \\left(\\begin{matrix}1.0\\\\2.0j\\\\\\end{matrix}\\right)$"
      ],
      "text/plain": [
       "Quantum object: dims = [[2], [1]], shape = (2, 1), type = ket\n",
       "Qobj data =\n",
       "[[1.+0.j]\n",
       " [0.+2.j]]"
      ]
     },
     "execution_count": 80,
     "metadata": {},
     "output_type": "execute_result"
    }
   ],
   "source": [
    "# Create a row vector:\n",
    "qv2 = Qobj([[1],[2j]]) #Toma una lista y lo tranforma en un vector cuántico (ket o bra)\n",
    "qv2 "
   ]
  },
  {
   "cell_type": "code",
   "execution_count": 81,
   "id": "ba9a16aa-8cc4-44c0-91e7-7df41b7bc34f",
   "metadata": {
    "tags": []
   },
   "outputs": [
    {
     "data": {
      "text/latex": [
       "Quantum object: dims = [[1], [2]], shape = (1, 2), type = bra $ \\\\ \\left(\\begin{matrix}1.0 & 2.0j\\\\\\end{matrix}\\right)$"
      ],
      "text/plain": [
       "Quantum object: dims = [[1], [2]], shape = (1, 2), type = bra\n",
       "Qobj data =\n",
       "[[1.+0.j 0.+2.j]]"
      ]
     },
     "execution_count": 81,
     "metadata": {},
     "output_type": "execute_result"
    }
   ],
   "source": [
    "qv3=Qobj([[1,2j]]) #Depende de como lo definimos será un ket o un bra\n",
    "qv3"
   ]
  },
  {
   "cell_type": "code",
   "execution_count": 82,
   "id": "grateful-profit",
   "metadata": {
    "tags": []
   },
   "outputs": [
    {
     "data": {
      "text/latex": [
       "Quantum object: dims = [[1], [2]], shape = (1, 2), type = bra $ \\\\ \\left(\\begin{matrix}1.0 & -2.0j\\\\\\end{matrix}\\right)$"
      ],
      "text/plain": [
       "Quantum object: dims = [[1], [2]], shape = (1, 2), type = bra\n",
       "Qobj data =\n",
       "[[1.+0.j 0.-2.j]]"
      ]
     },
     "execution_count": 82,
     "metadata": {},
     "output_type": "execute_result"
    }
   ],
   "source": [
    "qv2.dag() #cambia de ket a bra o ket"
   ]
  },
  {
   "cell_type": "markdown",
   "id": "adjustable-wonder",
   "metadata": {},
   "source": [
    "### Vector products in QuTiP\n",
    "Only need to know one operator: \"\\*\"\n",
    "The product will depend on the order, either inner or outer. Qutip can detect that automatically\n",
    "$$\n",
    "|\\psi\\rangle \\langle \\psi|\n",
    "$$"
   ]
  },
  {
   "cell_type": "code",
   "execution_count": 83,
   "id": "hairy-mexico",
   "metadata": {
    "tags": []
   },
   "outputs": [
    {
     "data": {
      "text/latex": [
       "Quantum object: dims = [[2], [2]], shape = (2, 2), type = oper, isherm = True $ \\\\ \\left(\\begin{matrix}1.0 & -2.0j\\\\2.0j & 4.0\\\\\\end{matrix}\\right)$"
      ],
      "text/plain": [
       "Quantum object: dims = [[2], [2]], shape = (2, 2), type = oper, isherm = True\n",
       "Qobj data =\n",
       "[[1.+0.j 0.-2.j]\n",
       " [0.+2.j 4.+0.j]]"
      ]
     },
     "execution_count": 83,
     "metadata": {},
     "output_type": "execute_result"
    }
   ],
   "source": [
    "qM=(qv2*qv2.dag()) #proyector\n",
    "qM"
   ]
  },
  {
   "cell_type": "code",
   "execution_count": 84,
   "id": "pharmaceutical-composition",
   "metadata": {
    "tags": []
   },
   "outputs": [
    {
     "data": {
      "text/latex": [
       "Quantum object: dims = [[1], [1]], shape = (1, 1), type = bra $ \\\\ \\left(\\begin{matrix}5.0\\\\\\end{matrix}\\right)$"
      ],
      "text/plain": [
       "Quantum object: dims = [[1], [1]], shape = (1, 1), type = bra\n",
       "Qobj data =\n",
       "[[5.]]"
      ]
     },
     "execution_count": 84,
     "metadata": {},
     "output_type": "execute_result"
    }
   ],
   "source": [
    "qv2.dag()*qv2 #numero"
   ]
  },
  {
   "cell_type": "code",
   "execution_count": 54,
   "id": "spanish-formation",
   "metadata": {
    "tags": []
   },
   "outputs": [
    {
     "data": {
      "text/latex": [
       "Quantum object: dims = [[2], [2]], shape = (2, 2), type = oper, isherm = True $ \\\\ \\left(\\begin{matrix}1.0 & -2.0j\\\\2.0j & 4.0\\\\\\end{matrix}\\right)$"
      ],
      "text/plain": [
       "Quantum object: dims = [[2], [2]], shape = (2, 2), type = oper, isherm = True\n",
       "Qobj data =\n",
       "[[1.+0.j 0.-2.j]\n",
       " [0.+2.j 4.+0.j]]"
      ]
     },
     "execution_count": 54,
     "metadata": {},
     "output_type": "execute_result"
    }
   ],
   "source": [
    "qM"
   ]
  },
  {
   "cell_type": "markdown",
   "id": "protective-marsh",
   "metadata": {},
   "source": [
    "### Eigenvectors and eigenvalues have their own instructions"
   ]
  },
  {
   "cell_type": "code",
   "execution_count": 55,
   "id": "fifth-tuition",
   "metadata": {
    "tags": []
   },
   "outputs": [
    {
     "data": {
      "text/plain": [
       "array([0., 5.])"
      ]
     },
     "execution_count": 55,
     "metadata": {},
     "output_type": "execute_result"
    }
   ],
   "source": [
    "qM.eigenenergies() #Autovalores"
   ]
  },
  {
   "cell_type": "code",
   "execution_count": 85,
   "id": "therapeutic-croatia",
   "metadata": {
    "tags": []
   },
   "outputs": [
    {
     "data": {
      "text/plain": [
       "(array([0., 5.]),\n",
       " array([Quantum object: dims = [[2], [1]], shape = (2, 1), type = ket\n",
       "        Qobj data =\n",
       "        [[-0.89442719+0.j       ]\n",
       "         [ 0.        +0.4472136j]]                                   ,\n",
       "        Quantum object: dims = [[2], [1]], shape = (2, 1), type = ket\n",
       "        Qobj data =\n",
       "        [[-0.4472136+0.j        ]\n",
       "         [ 0.       -0.89442719j]]                                   ],\n",
       "       dtype=object))"
      ]
     },
     "execution_count": 85,
     "metadata": {},
     "output_type": "execute_result"
    }
   ],
   "source": [
    "qM.eigenstates()"
   ]
  },
  {
   "cell_type": "code",
   "execution_count": 57,
   "id": "33d191eb-2e03-477a-b9a7-bc1d1c735034",
   "metadata": {
    "tags": []
   },
   "outputs": [
    {
     "data": {
      "text/plain": [
       "array([0., 5.])"
      ]
     },
     "execution_count": 57,
     "metadata": {},
     "output_type": "execute_result"
    }
   ],
   "source": [
    "qM.eigenstates()[0] #primer obj lusta de autovalres"
   ]
  },
  {
   "cell_type": "code",
   "execution_count": 58,
   "id": "02924d3f-d7ca-4f58-8b51-c52e379c5cc8",
   "metadata": {
    "tags": []
   },
   "outputs": [
    {
     "data": {
      "text/plain": [
       "array([Quantum object: dims = [[2], [1]], shape = (2, 1), type = ket\n",
       "       Qobj data =\n",
       "       [[-0.89442719+0.j       ]\n",
       "        [ 0.        +0.4472136j]]                                   ,\n",
       "       Quantum object: dims = [[2], [1]], shape = (2, 1), type = ket\n",
       "       Qobj data =\n",
       "       [[-0.4472136+0.j        ]\n",
       "        [ 0.       -0.89442719j]]                                   ],\n",
       "      dtype=object)"
      ]
     },
     "execution_count": 58,
     "metadata": {},
     "output_type": "execute_result"
    }
   ],
   "source": [
    "qM.eigenstates()[1] #lista de vectores propios"
   ]
  },
  {
   "cell_type": "code",
   "execution_count": 86,
   "id": "0a58e065-edd2-4472-af27-854c2f7121cd",
   "metadata": {},
   "outputs": [
    {
     "data": {
      "text/latex": [
       "Quantum object: dims = [[2], [1]], shape = (2, 1), type = ket $ \\\\ \\left(\\begin{matrix}-0.894\\\\0.447j\\\\\\end{matrix}\\right)$"
      ],
      "text/plain": [
       "Quantum object: dims = [[2], [1]], shape = (2, 1), type = ket\n",
       "Qobj data =\n",
       "[[-0.89442719+0.j       ]\n",
       " [ 0.        +0.4472136j]]"
      ]
     },
     "execution_count": 86,
     "metadata": {},
     "output_type": "execute_result"
    }
   ],
   "source": [
    "qM.eigenstates()[1][0] #de la lista de los autovalores escogemos el que queramos"
   ]
  },
  {
   "cell_type": "code",
   "execution_count": 88,
   "id": "recent-orbit",
   "metadata": {
    "tags": []
   },
   "outputs": [
    {
     "data": {
      "text/html": [
       "<table><tr><th>Software</th><th>Version</th></tr><tr><td>QuTiP</td><td>4.7.5</td></tr><tr><td>Numpy</td><td>1.24.3</td></tr><tr><td>SciPy</td><td>1.11.1</td></tr><tr><td>matplotlib</td><td>3.7.2</td></tr><tr><td>Cython</td><td>3.0.8</td></tr><tr><td>Number of CPUs</td><td>4</td></tr><tr><td>BLAS Info</td><td>INTEL MKL</td></tr><tr><td>IPython</td><td>8.15.0</td></tr><tr><td>Python</td><td>3.11.5 | packaged by Anaconda, Inc. | (main, Sep 11 2023, 13:26:23) [MSC v.1916 64 bit (AMD64)]</td></tr><tr><td>OS</td><td>nt [win32]</td></tr><tr><td colspan='2'>Wed Jan 31 10:08:15 2024 Hora estándar romance</td></tr></table>"
      ],
      "text/plain": [
       "<IPython.core.display.HTML object>"
      ]
     },
     "execution_count": 88,
     "metadata": {},
     "output_type": "execute_result"
    }
   ],
   "source": [
    "from qutip.ipynbtools import version_table\n",
    "\n",
    "version_table()"
   ]
  },
  {
   "cell_type": "code",
   "execution_count": null,
   "id": "bc103a9d-89be-497e-823a-451e69963b92",
   "metadata": {},
   "outputs": [],
   "source": []
  },
  {
   "cell_type": "code",
   "execution_count": null,
   "id": "71275872-7750-47d7-b2c6-f9fed64523ac",
   "metadata": {},
   "outputs": [],
   "source": []
  },
  {
   "cell_type": "code",
   "execution_count": null,
   "id": "d76097f6-fd7e-4dee-a3d4-35c1f6904b2c",
   "metadata": {},
   "outputs": [],
   "source": []
  }
 ],
 "metadata": {
  "kernelspec": {
   "display_name": "Python 3 (ipykernel)",
   "language": "python",
   "name": "python3"
  },
  "language_info": {
   "codemirror_mode": {
    "name": "ipython",
    "version": 3
   },
   "file_extension": ".py",
   "mimetype": "text/x-python",
   "name": "python",
   "nbconvert_exporter": "python",
   "pygments_lexer": "ipython3",
   "version": "3.11.5"
  },
  "widgets": {
   "application/vnd.jupyter.widget-state+json": {
    "state": {},
    "version_major": 2,
    "version_minor": 0
   }
  }
 },
 "nbformat": 4,
 "nbformat_minor": 5
}
