{
 "cells": [
  {
   "cell_type": "markdown",
   "metadata": {},
   "source": [
    "**AUTOR: Ander Gabarrús Ordóñez**"
   ]
  },
  {
   "cell_type": "markdown",
   "metadata": {},
   "source": [
    "<h1> Quantum measurements, Heisenberg's uncertainty principle and Bell inequalities </h1>\n",
    "\n",
    "<h2>Simulating a measurement on a qubit</h2>"
   ]
  },
  {
   "cell_type": "markdown",
   "metadata": {},
   "source": [
    "<h3>We import all the required libraries</h3>\n",
    "\n",
    "We also import some extra ones just in case"
   ]
  },
  {
   "cell_type": "code",
   "execution_count": 27,
   "metadata": {
    "tags": []
   },
   "outputs": [],
   "source": [
    "%matplotlib inline\n",
    "#from IPython.display import display\n",
    "import matplotlib.pyplot as plt\n",
    "import numpy as np\n",
    "from numpy.linalg import eig\n",
    "from qutip import *\n",
    "plt.rcParams[\"figure.figsize\"] = (12,9)"
   ]
  },
  {
   "cell_type": "code",
   "execution_count": 28,
   "metadata": {
    "tags": []
   },
   "outputs": [],
   "source": [
    "# Define the Phv measurement operator:\n",
    "MOpz= sigmaz()\n",
    "MOpx= sigmax()\n",
    "MOpy= sigmay()"
   ]
  },
  {
   "cell_type": "code",
   "execution_count": 29,
   "metadata": {
    "tags": []
   },
   "outputs": [],
   "source": [
    "ψ = ((2-1j)*basis(2,0)+(1-3j)*basis(2,1)).unit()\n",
    "ψ2=(basis(2,0)+basis(2,1)).unit()\n",
    "ψ3=basis(2,0)"
   ]
  },
  {
   "cell_type": "markdown",
   "metadata": {
    "jp-MarkdownHeadingCollapsed": true,
    "tags": []
   },
   "source": [
    "<h3> Function to generate the lab results </h3>\n",
    "\n",
    "The function to generate a data set of $N$ possible results for the measure of the 3 values of the spin operators on a randomly generated state.\n",
    "\n",
    "The function uses the numpy function \n",
    "\n",
    "random.choice(set_of_allowed_results, number_of_results_to_generate, probabilities_of_the_allowed_results)\n"
   ]
  },
  {
   "cell_type": "code",
   "execution_count": 30,
   "metadata": {
    "tags": []
   },
   "outputs": [],
   "source": [
    "def GenerateLabResults(N):\n",
    "    state=((np.random.random()+1j*np.random.random())*basis(2,0)+(np.random.random())*basis(2,1)).unit()\n",
    "    print(state)\n",
    "    oper=[0.5*sigmax(), 0.5*sigmay(), 0.5*sigmaz()]\n",
    "    data=[]\n",
    "    for k in oper:\n",
    "        eigenv1 = k.eigenstates()[1][0]\n",
    "        eigenv2 = k.eigenstates()[1][1]\n",
    "        allowed_results = k.eigenstates()[0]\n",
    "        probability_amps = [qo.full()[0][0] for qo in [eigenv1.dag()*state, eigenv2.dag()*state]]\n",
    "        pvals = [abs(pa.conjugate()*pa) for pa in probability_amps]\n",
    "        dataK=np.random.choice(allowed_results,size=N, p=pvals)\n",
    "        data.append(dataK)\n",
    "        print(state)\n",
    "    return data\n"
   ]
  },
  {
   "cell_type": "markdown",
   "metadata": {},
   "source": [
    "<h3> Statistical tools of the set of measurements </h3>\n",
    "\n",
    "We have created a set of possible lab results for the three operators. From these \"experimental\" results we can try to identify their properties:\n",
    "\n",
    "* data.var(): variance of the set \"data\"\n",
    "\n",
    "* data.mean(): mean of the set \"data\"\n",
    "\n",
    "* plt.hist(real(data)): represent a histogram from the results in the set \"data\""
   ]
  },
  {
   "cell_type": "code",
   "execution_count": 31,
   "metadata": {
    "tags": []
   },
   "outputs": [
    {
     "name": "stdout",
     "output_type": "stream",
     "text": [
      "Quantum object: dims = [[2], [1]], shape = (2, 1), type = ket\n",
      "Qobj data =\n",
      "[[0.83647763+0.20942504j]\n",
      " [0.5064053 +0.j        ]]\n",
      "Quantum object: dims = [[2], [1]], shape = (2, 1), type = ket\n",
      "Qobj data =\n",
      "[[0.83647763+0.20942504j]\n",
      " [0.5064053 +0.j        ]]\n",
      "Quantum object: dims = [[2], [1]], shape = (2, 1), type = ket\n",
      "Qobj data =\n",
      "[[0.83647763+0.20942504j]\n",
      " [0.5064053 +0.j        ]]\n",
      "Quantum object: dims = [[2], [1]], shape = (2, 1), type = ket\n",
      "Qobj data =\n",
      "[[0.83647763+0.20942504j]\n",
      " [0.5064053 +0.j        ]]\n"
     ]
    }
   ],
   "source": [
    "datax,datay,dataz=GenerateLabResults(1000000)\n",
    "sx=datax.mean()\n",
    "sy=datay.mean()\n",
    "sz=dataz.mean()"
   ]
  },
  {
   "cell_type": "code",
   "execution_count": 32,
   "metadata": {
    "tags": []
   },
   "outputs": [
    {
     "name": "stdout",
     "output_type": "stream",
     "text": [
      "Variance:  0.07048763127899997\n",
      "Mean:  0.423689\n"
     ]
    }
   ],
   "source": [
    "print(\"Variance: \",datax.var())\n",
    "print(\"Mean: \",datax.mean())"
   ]
  },
  {
   "cell_type": "code",
   "execution_count": 33,
   "metadata": {
    "tags": []
   },
   "outputs": [
    {
     "name": "stdout",
     "output_type": "stream",
     "text": [
      "Variance:  0.23888135197500013\n",
      "Mean:  -0.105445\n"
     ]
    }
   ],
   "source": [
    "print(\"Variance: \",datay.var())\n",
    "print(\"Mean: \",datay.mean())"
   ]
  },
  {
   "cell_type": "code",
   "execution_count": 34,
   "metadata": {
    "tags": []
   },
   "outputs": [
    {
     "name": "stdout",
     "output_type": "stream",
     "text": [
      "Variance:  0.1904654639910001\n",
      "Mean:  0.243997\n"
     ]
    }
   ],
   "source": [
    "print(\"Variance: \",dataz.var())\n",
    "print(\"Mean: \",dataz.mean())"
   ]
  },
  {
   "cell_type": "code",
   "execution_count": 35,
   "metadata": {
    "tags": []
   },
   "outputs": [],
   "source": [
    "## plt.hist(np.real(datax))"
   ]
  },
  {
   "cell_type": "code",
   "execution_count": 36,
   "metadata": {
    "tags": []
   },
   "outputs": [],
   "source": [
    "## plt.hist(np.real(datay))"
   ]
  },
  {
   "cell_type": "code",
   "execution_count": 37,
   "metadata": {
    "tags": []
   },
   "outputs": [],
   "source": [
    "## plt.hist(np.real(dataz))"
   ]
  },
  {
   "cell_type": "code",
   "execution_count": 38,
   "metadata": {
    "tags": []
   },
   "outputs": [
    {
     "data": {
      "text/html": [
       "<table><tr><th>Software</th><th>Version</th></tr><tr><td>QuTiP</td><td>4.7.5</td></tr><tr><td>Numpy</td><td>1.24.3</td></tr><tr><td>SciPy</td><td>1.11.1</td></tr><tr><td>matplotlib</td><td>3.7.2</td></tr><tr><td>Cython</td><td>3.0.8</td></tr><tr><td>Number of CPUs</td><td>4</td></tr><tr><td>BLAS Info</td><td>INTEL MKL</td></tr><tr><td>IPython</td><td>8.15.0</td></tr><tr><td>Python</td><td>3.11.5 | packaged by Anaconda, Inc. | (main, Sep 11 2023, 13:26:23) [MSC v.1916 64 bit (AMD64)]</td></tr><tr><td>OS</td><td>nt [win32]</td></tr><tr><td colspan='2'>Thu Mar 21 20:46:48 2024 Hora estándar romance</td></tr></table>"
      ],
      "text/plain": [
       "<IPython.core.display.HTML object>"
      ]
     },
     "execution_count": 38,
     "metadata": {},
     "output_type": "execute_result"
    }
   ],
   "source": [
    "from qutip.ipynbtools import version_table\n",
    "\n",
    "version_table()"
   ]
  },
  {
   "cell_type": "markdown",
   "metadata": {},
   "source": [
    "## PRÁCTICA 1: Medidas cuánticas: el principio de incertidumbre de Heisenberg y las desigualdades de Bell"
   ]
  },
  {
   "cell_type": "markdown",
   "metadata": {},
   "source": [
    "**AUTOR: Ander Gabarrús Ordóñez**"
   ]
  },
  {
   "cell_type": "markdown",
   "metadata": {
    "tags": []
   },
   "source": [
    "## Ejercicio 4.1. La medida cuántica."
   ]
  },
  {
   "cell_type": "markdown",
   "metadata": {
    "tags": []
   },
   "source": [
    "## M1. Se identifique el estado con el que se han generado las medidas. ¿Es posible determinar completamente el vector de $\\mathbb{C}^2$ que determina el estado, según el postulado I? ¿Por qué?"
   ]
  },
  {
   "cell_type": "markdown",
   "metadata": {},
   "source": [
    "La forma general de un estado en forma polar biene dada por:\n",
    "\n",
    "$$\n",
    "    |\\psi\\rangle = \\begin{pmatrix} a e^{i\\alpha} \\\\ b e^{i\\beta} \\end{pmatrix} \\qquad a,b,\\alpha,\\beta \\in \\mathbb{C}\n",
    "$$"
   ]
  },
  {
   "cell_type": "markdown",
   "metadata": {},
   "source": [
    "A partir de las medidas de los observables $\\hat\\sigma_x,\\hat\\sigma_y,\\hat\\sigma_z$ podemos obtener información del estado utilizdo. Debido al primer postulado no podemos conocer el estado en su totalidad, la excepción es una constante compleja $\\lambda$ que lo multiplica. Por lo tanto, podremos conocer el estado en la forma:\n",
    "\n",
    "$$\n",
    "    |\\psi\\rangle = \\lambda \\begin{pmatrix} a e^{i\\varphi} \\\\ b  \\end{pmatrix} \\qquad \\varphi=\\alpha-\\beta \\qquad \\lambda \\in \\mathbb{C}\n",
    "$$"
   ]
  },
  {
   "cell_type": "markdown",
   "metadata": {},
   "source": [
    "Para conocer las componentes del estado calculamos el valor esperado de los observables, $\\langle\\hat\\sigma_x\\rangle$, $\\langle\\hat\\sigma_y\\rangle$, $\\langle\\hat\\sigma_z\\rangle$.\n",
    "\n",
    "$$\n",
    "    \\langle\\hat\\sigma_x\\rangle = \\langle\\psi | \\hat\\sigma_x | \\psi\\rangle = 2abcos\\varphi\n",
    "    \\\\ \\langle\\hat\\sigma_y\\rangle = \\langle\\psi | \\hat\\sigma_y | \\psi\\rangle = 2absin\\varphi\n",
    "    \\\\ \\langle\\hat\\sigma_z\\rangle = \\langle\\psi | \\hat\\sigma_z | \\psi\\rangle = a^2-b^2\n",
    "$$\n",
    "\n",
    "Resolviendo el sistema de ecuaciones llegamos a la expresión para cada componente:\n",
    "\n",
    "$$\n",
    "    a = \\sqrt{\\frac{1}{2}(1+\\langle\\hat\\sigma_z\\rangle)}\n",
    "    \\\\ b = \\sqrt{\\frac{1}{2}(1-\\langle\\hat\\sigma_z\\rangle)}\n",
    "    \\\\ \\varphi = arctan(\\frac{\\langle\\hat\\sigma_y\\rangle}{\\langle\\hat\\sigma_x\\rangle})\n",
    "$$"
   ]
  },
  {
   "cell_type": "code",
   "execution_count": 46,
   "metadata": {
    "tags": []
   },
   "outputs": [
    {
     "data": {
      "text/latex": [
       "Quantum object: dims = [[2], [1]], shape = (2, 1), type = ket $ \\\\ \\left(\\begin{matrix}(0.499-0.745j)\\\\0.443\\\\\\end{matrix}\\right)$"
      ],
      "text/plain": [
       "Quantum object: dims = [[2], [1]], shape = (2, 1), type = ket\n",
       "Qobj data =\n",
       "[[0.49934709-0.74478083j]\n",
       " [0.44266692+0.j        ]]"
      ]
     },
     "execution_count": 46,
     "metadata": {},
     "output_type": "execute_result"
    }
   ],
   "source": [
    "a = np.sqrt((1+dataz.mean()*2)*0.5) # El factor 2 multiplicando viene de que nosotros conocemos el valor esperado del espín\n",
    "b = np.sqrt((1-dataz.mean()*2)*0.5) \n",
    "ϕ = np.arctan(datay.mean()/datax.mean())\n",
    "\n",
    "ψ = (basis(2,0)*(np.cos(ϕ)+1j*np.sin(ϕ))*a + basis(2,1)*b).unit()\n",
    "\n",
    "ψ"
   ]
  },
  {
   "cell_type": "markdown",
   "metadata": {},
   "source": [
    "El motivo por el que no podemos determinar completamente un estado es debido a que un mismo rayo cuántico está descrito igualmente por un estado $|\\psi\\rangle$ que por un estado $\\lambda|\\psi\\rangle$, por lo tanto no podemos saber cual le corresponde exactamente."
   ]
  },
  {
   "cell_type": "markdown",
   "metadata": {
    "tags": []
   },
   "source": [
    "## M2. Estudiar cómo depende del tamaño de la muestra de puntos el error cometido al estimar los valores medios de las tres componentes del espín con la funciónanterior, que emplea una muestra finita."
   ]
  },
  {
   "cell_type": "markdown",
   "metadata": {},
   "source": [
    "Disponemos de $N$ medidas de un observable utilizando un estado $|\\psi\\rangle$. Estas medidas siguen una distribución de probabilidad desconocida, pero podemos conocer el valor esperado $\\mu$ y su error $\\sigma$ mediante el cálculo del primer y segundo momento de la distribución. Pretendemos encontrar un método para, a partir de medidas del observable, obtener un resultado promedio lo más cercano posible al valor esperado. Esto es encontrar una forma de minimizar el error cometido al calcular la media de nuestros $N$ datos. \n",
    "\n",
    "Para un conjunto de datos $N$ podemos calcular su media muestral $\\bar x= \\dfrac{1}{N}\\sum_i^N x_i$ y el error absoluto $\\vert\\bar x-\\mu\\vert$ obteniendo así una primera aproximación al error cometido en la determinación de un valor cercano al valor teórico. "
   ]
  },
  {
   "cell_type": "code",
   "execution_count": 47,
   "metadata": {
    "tags": []
   },
   "outputs": [
    {
     "name": "stdout",
     "output_type": "stream",
     "text": [
      "Quantum object: dims = [[2], [1]], shape = (2, 1), type = ket\n",
      "Qobj data =\n",
      "[[0.97816673+0.20065049j]\n",
      " [0.05412234+0.j        ]]\n",
      "Quantum object: dims = [[2], [1]], shape = (2, 1), type = ket\n",
      "Qobj data =\n",
      "[[0.97816673+0.20065049j]\n",
      " [0.05412234+0.j        ]]\n",
      "Quantum object: dims = [[2], [1]], shape = (2, 1), type = ket\n",
      "Qobj data =\n",
      "[[0.97816673+0.20065049j]\n",
      " [0.05412234+0.j        ]]\n",
      "Quantum object: dims = [[2], [1]], shape = (2, 1), type = ket\n",
      "Qobj data =\n",
      "[[0.97816673+0.20065049j]\n",
      " [0.05412234+0.j        ]]\n"
     ]
    }
   ],
   "source": [
    "#Generamos los resultados del experimento\n",
    "Npoints=500000 # Número de datos que se van a generar\n",
    "datax,datay,dataz = GenerateLabResults(Npoints) # Se generan los datos\n",
    " \n",
    "Nmedias=5000 # Numero de medias que se van a realizar, variando el tamaño de la muestra\n",
    "\n",
    "#Se generan los arrays necesarios en los que se van a almacenar los resultados\n",
    "dispmeanx=np.zeros(Nmedias)\n",
    "dispmeany=np.zeros(Nmedias)\n",
    "dispmeanz=np.zeros(Nmedias)\n",
    "\n",
    "errormean2x=np.zeros(Nmedias)\n",
    "errormean2y=np.zeros(Nmedias)\n",
    "errormean2z=np.zeros(Nmedias)\n",
    "\n",
    "divisionsize=int(Npoints/Nmedias)\n",
    "\n",
    "nresults=np.linspace(divisionsize,Npoints,Nmedias) # Array que nos va a indicar el tamaño de la muestra en cada paso\n",
    "# El array empieza en divisionsize y termina en Npoints y genera un total de Nmedias puntos entre ellos. Por lo tanto el tamaño de la muestra aumenta de 100 en 100.\n",
    "# nresults[:100]"
   ]
  },
  {
   "cell_type": "code",
   "execution_count": 48,
   "metadata": {
    "tags": []
   },
   "outputs": [
    {
     "data": {
      "text/plain": [
       "Text(0, 0.5, 'Error expected value')"
      ]
     },
     "execution_count": 48,
     "metadata": {},
     "output_type": "execute_result"
    },
    {
     "data": {
      "image/png": "[encoded data removed]",
      "text/plain": [
       "<Figure size 1200x900 with 1 Axes>"
      ]
     },
     "metadata": {},
     "output_type": "display_data"
    }
   ],
   "source": [
    "#Calculamos el error como la diferencia con el valor teórico conocido para la media.\n",
    "Meanx=datax.mean()\n",
    "Meany=datay.mean()\n",
    "Meanz=dataz.mean()\n",
    "for i in range(Nmedias):\n",
    "    Nmean=int(nresults[i])\n",
    " \n",
    "    dispmeanx[i]=np.abs(datax[:Nmean].mean()-Meanx)\n",
    "    dispmeany[i]=np.abs(datay[:Nmean].mean()-Meany)\n",
    "    dispmeanz[i]=np.abs(dataz[:Nmean].mean()-Meanz)\n",
    "\n",
    " \n",
    "plt.plot(nresults,dispmeanx,label=\"$\\\\langle X\\\\rangle_n-\\\\mu_x$\")\n",
    "plt.plot(nresults,dispmeany,label=\"$\\\\langle Y\\\\rangle_n-\\\\mu_y$\")\n",
    "plt.plot(nresults,dispmeanz,label=\"$\\\\langle Z\\\\rangle_n-\\\\mu_z$\")\n",
    "\n",
    "#plt.plot(nresults,np.sqrt(varx/nresults),label=\"theory\")\n",
    "#plt.xlim([0, 50000])\n",
    "#plt.ylim([0, 0.10])\n",
    "plt.legend(loc=\"upper right\")\n",
    "\n",
    "plt.xlabel('Numero de medias')\n",
    "plt.ylabel('Error expected value')"
   ]
  },
  {
   "cell_type": "markdown",
   "metadata": {},
   "source": [
    "En la gráfica se pueden observar muchas perturbaciones, es decir, el error absoluto no disminuye de manera suave al aumentar el tamaño de la muestra. \n",
    "Esto es debido a que la media es una suma de variables aleatorias, por lo tanto, esta también es una variable aleatoria. Asi que es posible que el error pueda disminuir tanto para valores pequeños de $N$ como para grandes."
   ]
  },
  {
   "cell_type": "markdown",
   "metadata": {
    "tags": []
   },
   "source": [
    "Debido a que conocemos el valor teórico $\\mu$ podemos realizar el siguiente proceso para calcular el error del estimador de la media:\n",
    "\n",
    "- Dividimos los datos en $N_e$ cajas del mismo tamaño N.\n",
    "- De esas cajas calculamos la media mediante el estimador. \n",
    "- Con este nuevo conjunto de datos calculamos su dispersión mediante:\n",
    "\\begin{equation}\n",
    "\\sigma_{\\bar x}(N)=\\sqrt{\\dfrac{1}{N_e}\\sum_e^{N_e} (\\bar x_e(N)-\\mu)^2}\n",
    "\\end{equation}\n",
    "\n"
   ]
  },
  {
   "cell_type": "markdown",
   "metadata": {},
   "source": [
    "Si no conocemos el valor de $\\mu$ podemos obtenerlo como una funcion de variables aleatorias.\n",
    "$\\bar x$ es un buen estimador de $\\mu$ debido a que es no sesgado, es decir, su valor esperado corresponde con $\\mu$, y además es consistente. Esta última propiedad se comprueba calculando su desviación estándar. Podemos hallarla haciendo la raiz de la varianza del estimador: $\\sigma_{\\bar x}=\\dfrac{\\sigma}{\\sqrt{N}}$. Comprobamos que es consistente haciendo tender a infinito el tamaño de la muestra ya que en ese caso la desviación tiende a cero. Por lo tanto, esperamos justo obetener esa relación, la disminución del error cometido al estimar el valor real al aumentar el número de medidas.  "
   ]
  },
  {
   "cell_type": "code",
   "execution_count": 42,
   "metadata": {
    "tags": []
   },
   "outputs": [
    {
     "data": {
      "text/plain": [
       "<matplotlib.legend.Legend at 0x21f0862bd90>"
      ]
     },
     "execution_count": 42,
     "metadata": {},
     "output_type": "execute_result"
    },
    {
     "data": {
      "image/png": "[encoded data removed]",
      "text/plain": [
       "<Figure size 1200x900 with 1 Axes>"
      ]
     },
     "metadata": {},
     "output_type": "display_data"
    }
   ],
   "source": [
    "Npoints=500000\n",
    "Nmedias=5000\n",
    "avmeanx=np.zeros(Nmedias) # Define los arrays necesarios\n",
    "avmeany=np.zeros(Nmedias)\n",
    "avmeanz=np.zeros(Nmedias)\n",
    "avmeanx2=np.zeros(Nmedias)\n",
    "avmeany2=np.zeros(Nmedias)\n",
    "avmeanz2=np.zeros(Nmedias)\n",
    "dispmeanx=np.zeros(Nmedias)\n",
    "dispmeany=np.zeros(Nmedias)\n",
    "dispmeanz=np.zeros(Nmedias)\n",
    "\n",
    "divisionsize=int(Npoints/100/Nmedias)\n",
    "nresults=np.linspace(divisionsize,Npoints/100,Nmedias)\n",
    "\n",
    "\n",
    "for i in range(Nmedias):\n",
    "    Nmean=int(nresults[i])\n",
    "    Numeropaquetes=int(Npoints/Nmean)\n",
    "    for j in range(Numeropaquetes):\n",
    "        #We consider an average of the measures to represent one point of the distribution. This smoothes the \n",
    "        #system\n",
    "        avmeanx2[i]+=(datax[j*Nmean:(j+1)*Nmean].mean())**2/Numeropaquetes\n",
    "        avmeany2[i]+=(datay[j*Nmean:(j+1)*Nmean].mean())**2/Numeropaquetes\n",
    "        avmeanz2[i]+=(dataz[j*Nmean:(j+1)*Nmean].mean())**2/Numeropaquetes\n",
    "        avmeanx[i]+=(datax[j*Nmean:(j+1)*Nmean].mean())/Numeropaquetes\n",
    "        avmeany[i]+=(datay[j*Nmean:(j+1)*Nmean].mean())/Numeropaquetes\n",
    "        avmeanz[i]+=(dataz[j*Nmean:(j+1)*Nmean].mean())/Numeropaquetes\n",
    "    #Se hacen las raices cuadradas. ¿Quizás esto sea un problema? ¿Es el estimador de la raíz  de una magnitud la raíz del estimador de la misma?\n",
    "    dispmeanx[i]=np.sqrt(avmeanx2[i]-avmeanx[i]**2)\n",
    "    dispmeany[i]=np.sqrt(avmeany2[i]-avmeany[i]**2)\n",
    "    dispmeanz[i]=np.sqrt(avmeanz2[i]-avmeanz[i]**2)\n",
    "    \n",
    "    errormean2x[i]=np.sqrt((0.25-(datax[:Nmean].mean())**2)/(Nmean))\n",
    "    errormean2y[i]=np.sqrt((0.25-(datay[:Nmean].mean())**2)/(Nmean))\n",
    "    errormean2z[i]=np.sqrt((0.25-(dataz[:Nmean].mean())**2)/(Nmean))\n",
    "    \n",
    "plt.plot(nresults,errormean2x,label=\"Standard Error X\")\n",
    "plt.plot(nresults,errormean2y,label=\"Standard Error Y\")\n",
    "plt.plot(nresults,errormean2z,label=\"Standard Error Z\")\n",
    "\n",
    "    \n",
    "    \n",
    "#Ploteo de resultados\n",
    "plt.plot(nresults,dispmeanx,label=\"Error2 X\")\n",
    "plt.plot(nresults,dispmeany,label=\"Error2 Y\")\n",
    "plt.plot(nresults,dispmeanz,label=\"Error2 Z\")\n",
    "\n",
    "plt.xlabel('Numero de medias')\n",
    "plt.ylabel('Error expected value')\n",
    "plt.legend(bbox_to_anchor=(1.05,1),loc='upper left', borderaxespad=0.)"
   ]
  },
  {
   "cell_type": "markdown",
   "metadata": {},
   "source": [
    "Vemos como esto efectivamente se cumple, conseguimos evitar la componente estocástica, dando lugar a una tendencia del error de disminuir al aumentar el tamaño de la muestra. "
   ]
  },
  {
   "cell_type": "markdown",
   "metadata": {},
   "source": [
    "La conclusión es que la desviación estándar del estimador del valor esperado es igual a la varianza del mismo dividido por $\\sqrtN$, así que el error cometido disminuirá al aumentar el tamaño de la muestra."
   ]
  },
  {
   "cell_type": "markdown",
   "metadata": {
    "tags": []
   },
   "source": [
    "## Ejercicio 4.2. El principio de incertidumbre."
   ]
  },
  {
   "cell_type": "markdown",
   "metadata": {
    "tags": []
   },
   "source": [
    "## I1. Resolver el ejercicio 2.1"
   ]
  },
  {
   "cell_type": "markdown",
   "metadata": {},
   "source": [
    "$$\n",
    "\\hat A \\hat B=\\frac 12(\\hat A \\hat B+\\hat B \\hat A)+\\frac 12(\\hat A \\hat B- \\hat B \\hat A)=\\frac 12[\\hat A\\hat B]_+ +\\frac i2[\\hat A\\hat B]\n",
    "$$"
   ]
  },
  {
   "cell_type": "markdown",
   "metadata": {},
   "source": [
    "Donde:\n",
    "$$\n",
    "    [\\hat A,\\hat B]_+=\\hat A\\hat B+\\hat A\\hat B \\qquad y  \\qquad [\\hat A,\\hat B]=-i(\\hat A\\hat B-\\hat A\\hat B)\n",
    "$$"
   ]
  },
  {
   "cell_type": "markdown",
   "metadata": {
    "tags": []
   },
   "source": [
    "En general se deben cumlpir las siguientes propiedades:\n",
    "- El producto de los operadores autoadjuntos $\\hat A\\hat B$ no tiene por qué ser autoadjunto a su vez, sólo lo será en el caso de que ambos operadores conmuten.\n",
    "- El anticonmutador $[\\hat A,\\hat B]_+$ de dos operadores autoadjuntos siempre es autoadjunto.\n",
    "- El conmutador de dos operadores autoadjuntos $[\\hat A,\\hat B]$ , tal como se ha definido (con la unidad imaginaria), es siempre autoadjunto.\n",
    "\n",
    "Demostración:"
   ]
  },
  {
   "cell_type": "markdown",
   "metadata": {
    "tags": []
   },
   "source": [
    "- El producto de los operadores autoadjuntos $\\hat A\\hat B$ no tiene por qué ser autoadjunto a su vez,  sólo lo será en el caso de que ambos operadores conmuten:\n",
    "\n",
    "$$\n",
    "(\\hat A\\hat B)^\\dagger=\\hat B^\\dagger \\hat A^\\dagger=\\hat B\\hat A=\\hat A\\hat B\n",
    "$$\n",
    "\n",
    "La última igualdad sólo ocurre en el caso de que $\\hat A$ y $\\hat B$ conmuten."
   ]
  },
  {
   "cell_type": "markdown",
   "metadata": {},
   "source": [
    "- El anticonmutador $[\\hat A,\\hat B]_+$ de dos operadores autoadjuntos siempre es autoadjunto: \n",
    "\n",
    "Es autoadjunto si $ [\\hat A,\\hat B]_+ ^ \\dagger = [\\hat A,\\hat B]_+ $\n",
    "\n",
    "$$\n",
    "[\\hat A,\\hat B]_+ ^ {\\dagger} = (\\hat A\\hat B+\\hat B\\hat A) ^ \\dagger = (\\hat A\\hat B)^\\dagger+(\\hat B\\hat A)^\\dagger=\\hat B^\\dagger\\hat A^\\dagger+\\hat A^\\dagger\\hat B^\\dagger=\\hat B\\hat A+\\hat A\\hat B=[\\hat A,\\hat B]_+  \n",
    "$$  \n"
   ]
  },
  {
   "cell_type": "markdown",
   "metadata": {},
   "source": [
    "- El conmutador de dos operadores autoadjuntos $[\\hat A,\\hat B]$ , tal como se ha definido (con la unidad imaginaria), es siempre autoadjunto.\n",
    "\n",
    "Es autoadjunto si $ [\\hat A,\\hat B] ^ \\dagger = [\\hat A,\\hat B] $\n",
    "\n",
    "$$\n",
    "[\\hat A,\\hat B]^\\dagger=[-i(\\hat A\\hat B-\\hat B\\hat A)]^\\dagger=i(\\hat A\\hat B,\\hat B\\hat A)^\\dagger=i[(\\hat A\\hat B)^\\dagger-(\\hat B\\hat A)^\\dagger]=i(\\hat B\\hat A-\\hat A\\hat B)=-i(\\hat A\\hat B-\\hat B\\hat A)=[\\hat A,\\hat B]\n",
    "$$\n"
   ]
  },
  {
   "cell_type": "markdown",
   "metadata": {},
   "source": [
    "## I2. Empleando las funciones de qutip (expect(operator, state) y variance(operator, state)) Construir un pequeño programa para verificar la fórmula (26) para el caso:"
   ]
  },
  {
   "cell_type": "markdown",
   "metadata": {},
   "source": [
    "$$\n",
    "\\hat A = \\hat\\sigma_{x} \\qquad \\hat B = \\hat\\sigma_z\n",
    "$$"
   ]
  },
  {
   "cell_type": "markdown",
   "metadata": {},
   "source": [
    "Y evaluarlo en los estados:\n",
    "$$\n",
    "|\\psi_1\\rangle = |+\\rangle\n",
    "\\\\ |\\psi_2\\rangle = (0,160+0,801i)|+\\rangle-(0,320+0,480i)|-\\rangle\n",
    "\\\\ |\\psi_3\\rangle = \\frac{1}{\\sqrt2}(|+\\rangle+|-\\rangle)\n",
    "$$"
   ]
  },
  {
   "cell_type": "markdown",
   "metadata": {},
   "source": [
    "La fórmula (26) es:\n",
    "\n",
    "$$\n",
    "    \\Delta\\hat A_{\\psi}\\Delta\\hat B_{\\psi}\\geq\\frac{1}{2}|\\langle\\psi|[\\hat A,\\hat B]|\\psi\\rangle|\n",
    "$$"
   ]
  },
  {
   "cell_type": "code",
   "execution_count": 43,
   "metadata": {
    "tags": []
   },
   "outputs": [
    {
     "name": "stdout",
     "output_type": "stream",
     "text": [
      "SE CUMPLE\n",
      "ΔAΔB , 0.5*<[A,B]>\n",
      "0.0 0.0\n",
      "<A> , <B>\n",
      "0.0 1.0\n",
      "<A^2> , <B^2>\n",
      "1.0 1.0\n",
      "ΔA , ΔB\n",
      "1.0 0.0\n",
      "\n",
      "\n",
      "----------------------------\n",
      "\n",
      "SE CUMPLE\n",
      "ΔAΔB , 0.5*<[A,B]>\n",
      "0.4623994865034745 -0.35904\n",
      "<A> , <B>\n",
      "-0.87136 0.33440100000000006\n",
      "<A^2> , <B^2>\n",
      "1.0000010000000001 1.0000010000000001\n",
      "ΔA , ΔB\n",
      "0.4906452388437088 0.9424314145862287\n",
      "\n",
      "\n",
      "----------------------------\n",
      "\n",
      "SE CUMPLE\n",
      "ΔAΔB , 0.5*<[A,B]>\n",
      "1.4901161193847655e-08 0.0\n",
      "<A> , <B>\n",
      "0.9999999999999998 0.0\n",
      "<A^2> , <B^2>\n",
      "0.9999999999999998 0.9999999999999998\n",
      "ΔA , ΔB\n",
      "1.4901161193847656e-08 0.9999999999999999\n",
      "\n",
      "\n",
      "----------------------------\n",
      "\n"
     ]
    }
   ],
   "source": [
    "A = sigmax()\n",
    "B = sigmaz()\n",
    "C = sigmay()\n",
    "\n",
    "a = 0.160 + 0.801j\n",
    "b = -0.320 - 0.480j\n",
    "\n",
    "ψ1 = basis(2,0)\n",
    "ψ2 = a*basis(2,0)+b*basis(2,1)\n",
    "ψ3 = (basis(2,0)+basis(2,1)).unit()\n",
    "\n",
    "def conmutador(A,B):\n",
    "    return -1j*(A*B-B*A)\n",
    "\n",
    "def incertidumbre(A,ψ):\n",
    "    return np.sqrt(variance(A, ψ))\n",
    "\n",
    "def Heisenberg(A,B,ψ):\n",
    "    I = incertidumbre(A,ψ)*incertidumbre(B,ψ)\n",
    "    E = expect(conmutador(A,B),ψ)\n",
    "    if (I >= 0.5*E):\n",
    "        print(\"SE CUMPLE\")\n",
    "        \n",
    "    else:\n",
    "        print(\"NO SE CUMPLE\")\n",
    "        \n",
    "    print(\"ΔAΔB , 0.5*<[A,B]>\")\n",
    "    print(I,0.5*E)\n",
    "    print('<A> , <B>')\n",
    "    print(expect(A,ψ),expect(B,ψ))\n",
    "    print('<A^2> , <B^2>')\n",
    "    print(expect(A*A,ψ),expect(B*B,ψ))\n",
    "    print(\"ΔA , ΔB\")\n",
    "    print(incertidumbre(A,ψ),incertidumbre(B,ψ))\n",
    "    print(\"\\n\")\n",
    "    print(\"----------------------------\\n\")   \n",
    "               \n",
    "Heisenberg(A,B,ψ1)\n",
    "Heisenberg(A,B,ψ2)\n",
    "Heisenberg(A,B,ψ3)\n"
   ]
  },
  {
   "cell_type": "markdown",
   "metadata": {
    "tags": []
   },
   "source": [
    "- ¿En qué ocasiones existirá la posibilidad de medir experimentalmente componentes del espín de una partícula de forma absolutamente precisa?\n",
    "\n",
    "Únicamanete es posible en el caso de que partamos de un autovector del observable del que pretendemos tomar medidas. De esta forma mediremos el autovalor asociado a ese autovector de manera absolutamente precisa. Si quremos medir, por ejemplo, con el estado $|\\psi\\rangle = |+\\rangle$ la componente $Z$ del espín, el resultado obtenido será el autovalor $+\\frac{1}{2}$ de manera absolutamente precisa."
   ]
  },
  {
   "cell_type": "markdown",
   "metadata": {},
   "source": [
    "- ¿Es posible medir simultaneamente dos componentes cualesquiera en algún estado? ¿Y las tres?\n",
    "\n",
    "Únicamente es posible en el caso que el valor esperado del conmutador sea nulo, y por lo tanto el valor esperado del operador de la tecera componente no involucrada (debido a la relación de conmitación entre los operadores de espín).  Además, se debe cumplir que el valor esperado de los observables al cuadrado sea cero para que así la incertidumbre del operador aplicado al estado $|\\psi\\rangle$ sea cero. \n",
    "\n",
    "En general no va a ser posible debido a que los operadores de espín no conmutan siendo imposible obtener una medida con presisión infinita de dos componentes del espín. Si se mide una de las dos con una precisión baja se sacrifica precisión en la medida de otro de los componentes, cumpliendose siempre la relación de incertidumbre.  Esto ocurre para cualquier combinación poisble entre los operadores de espín, por lo tanto no podemos determinar con precisión infinita las tres componentes del espín simultaneamente. Podemos comprobar esto para los operadores de espín:"
   ]
  },
  {
   "cell_type": "code",
   "execution_count": 44,
   "metadata": {
    "tags": []
   },
   "outputs": [
    {
     "name": "stdout",
     "output_type": "stream",
     "text": [
      "0.5 0.5 0.0\n"
     ]
    }
   ],
   "source": [
    "ΔSx = np.sqrt(variance(0.5*A, ψ1))\n",
    "ΔSy = np.sqrt(variance(0.5*C, ψ1))\n",
    "ΔSz = np.sqrt(variance(0.5*B, ψ1))\n",
    "print(ΔSx,ΔSy,ΔSz)"
   ]
  },
  {
   "cell_type": "markdown",
   "metadata": {},
   "source": [
    "Se puede ver que debido a que la incertidumbre en la determinación del espín en el eje $Z$  es nula (por que hemos utilizado uno de sus autovectores), la incertidumbre enlas otras dos componentes de espín no lo es. Por lo tanto, no se puede determinar de manera absolutamente precisa las tres componentes del espín al mismo tiempo."
   ]
  },
  {
   "cell_type": "markdown",
   "metadata": {},
   "source": [
    "- ¿Existe esa posibilidad para los operadores posición y momento actuando en un espacio de Hilbert funcional $\\mathcal{L}^2 (D),d\\mu$? ¿Por qué?\n",
    "\n",
    "Si sustituimos en la ecuación (26) $\\hat A$ y $\\hat B$ por el operador posición $\\hat X$ y por el operador momento $\\hat P$  obtenemos la siguiente relación de incertidumbre:\n",
    "\n",
    "$$\n",
    "    \\Delta\\hat X\\Delta\\hat P \\geq \\frac{\\hbar}{2}\n",
    "$$\n",
    "\n",
    "El significado de esta expresión es que debido a que el propio proceso de medida altera los resultados, es imposible la determinación exacta del momento y la posición al mismo tiempo."
   ]
  },
  {
   "cell_type": "markdown",
   "metadata": {},
   "source": [
    "## Ejercicio 4.3. El teorema de Bell."
   ]
  },
  {
   "cell_type": "markdown",
   "metadata": {
    "tags": []
   },
   "source": [
    "## B1. Ejercicio 2.2"
   ]
  },
  {
   "cell_type": "markdown",
   "metadata": {},
   "source": [
    "Consideramos el siguiente producto:"
   ]
  },
  {
   "cell_type": "markdown",
   "metadata": {},
   "source": [
    "$$\n",
    "C(q,r,s,t) = qs + rs + rt -qt \\qquad q,r,s,t = \\pm 1\n",
    "$$"
   ]
  },
  {
   "cell_type": "markdown",
   "metadata": {},
   "source": [
    "Habiendo dos posibilidades:\n",
    "\n",
    "$$\n",
    "    \\left\\{\\begin{array}{cl}\n",
    "    \\left(q+r\\right)=0 & \\left(r-q\\right)=\\pm2  \n",
    "    \\\\\n",
    "    \\left(q+r\\right)=\\pm2 & \\left(r-q\\right)=0\n",
    "    \\end{array} \\right.\n",
    "$$\n",
    "\n",
    "\n",
    "    "
   ]
  },
  {
   "cell_type": "markdown",
   "metadata": {},
   "source": [
    "Queremos comprobar que bajo las condiciones de realismo local $\\overline C= \\overline{QR+RS+RT-QT} \\leq 2$.\n",
    "Si desarrollamos el valore esperado de $C$:\n",
    "\n",
    "$$\n",
    "    \\langle\\psi|C|\\psi\\rangle = \\langle\\psi|(Q+R)S|\\psi\\rangle + \\langle\\psi|(R-Q)T|\\psi\\rangle\n",
    "$$\n",
    "\n",
    "De manera que para el primer caso $(q+r)=0$ y $(r-q)=\\pm2$ :\n",
    "\n",
    "$$\n",
    "    (\\pm2)\\langle\\psi|T|\\psi\\rangle = (\\pm2)(\\pm1) \\leq 2\n",
    "$$\n",
    "\n",
    "Y para el segundo caso $(q+r) = \\pm2$ y $(r-q) = 0$ :\n",
    "\n",
    "$$\n",
    "    (\\pm2)\\langle\\psi|S|\\psi\\rangle = (\\pm2)(\\pm1) \\leq 2\n",
    "$$"
   ]
  },
  {
   "cell_type": "markdown",
   "metadata": {},
   "source": [
    "Se comprueba así que el valor esperado de $C$ va a ser siempre menor que dos."
   ]
  },
  {
   "cell_type": "markdown",
   "metadata": {},
   "source": [
    "## B2. Estudiar el Teorema 2.1"
   ]
  },
  {
   "cell_type": "markdown",
   "metadata": {
    "tags": []
   },
   "source": [
    "Para los operadores:\n",
    "$$\n",
    "    \\hat Q = \\hat \\sigma_z^1 \\otimes \\mathbb{I} \\qquad \\hat R = \\hat \\sigma_x^1 \\otimes \\mathbb{I} \\qquad \\hat S = -\\frac{1}{\\sqrt2}\\mathbb{I}\\otimes(\\hat\\sigma_x^2+\\hat \\sigma_x^2) \\qquad \\hat T = \\frac{1}{\\sqrt2}\\mathbb{I}\\otimes(\\hat\\sigma_x^2+\\hat \\sigma_x^2)\n",
    "$$"
   ]
  },
  {
   "cell_type": "markdown",
   "metadata": {},
   "source": [
    "Y los estados:\n",
    "\n",
    "$$\n",
    "    |\\psi_1\\rangle = |0,0\\rangle \\\\\n",
    "    |\\psi_2\\rangle = \\frac{1}{\\sqrt2}(|+,+\\rangle-|-,-\\rangle) \\\\\n",
    "    |\\psi_3\\rangle = |1,0\\rangle \\\\\n",
    "    |\\psi_4\\rangle = \\frac{1}{\\sqrt2}(|+,-\\rangle+|+,+\\rangle) \n",
    "$$\n",
    "\n",
    "Los estados $|\\psi_1\\rangle$  y $|\\psi_3\\rangle$ podemos expresarlos en función de los autovectores de $|+\\rangle$ y $|-\\rangle$ utilizando las tablas de Clebsh-Gordan."
   ]
  },
  {
   "cell_type": "code",
   "execution_count": 49,
   "metadata": {
    "tags": []
   },
   "outputs": [
    {
     "name": "stdout",
     "output_type": "stream",
     "text": [
      "No se cumple\n",
      "2.8284271247461894\n",
      "Se cumple\n",
      "0.0\n",
      "Se cumple\n",
      "-1.414213562373095\n",
      "Se cumple\n",
      "0.0\n"
     ]
    }
   ],
   "source": [
    "Q = tensor(sigmaz(),qeye(2))\n",
    "R = tensor(sigmax(),qeye(2))\n",
    "S = -tensor(qeye(2),sigmaz()+sigmax())/np.sqrt(2)\n",
    "T = tensor(qeye(2),sigmaz()-sigmax())/np.sqrt(2)\n",
    "\n",
    "def bell(ψ):\n",
    "    C=Q*S+R*S+R*T-Q*T\n",
    "    if (expect(C,ψ)<=2):\n",
    "        print(\"Se cumple\")\n",
    "        print(expect(C,ψ))\n",
    "    else:\n",
    "        print(\"No se cumple\")\n",
    "        print(expect(C,ψ))\n",
    " \n",
    "\n",
    "## Estados ψ1 y ψ3 con Clebsh-Gordan 1/2 x 1/2 \n",
    "\n",
    "ψ1 = (tensor(basis(2,0),basis(2,1))-tensor(basis(2,1),basis(2,0)))/np.sqrt(2)\n",
    "ψ2 = (tensor(basis(2,0),basis(2,0))-tensor(basis(2,1),basis(2,1)))/np.sqrt(2)\n",
    "ψ3 = tensor(basis(2,0),basis(2,0))\n",
    "ψ4 = (tensor(basis(2,0),basis(2,1))+tensor(basis(2,0),basis(2,0)))/np.sqrt(2)\n",
    "\n",
    "bell(ψ1)\n",
    "bell(ψ2)\n",
    "bell(ψ3)\n",
    "bell(ψ4)"
   ]
  },
  {
   "cell_type": "markdown",
   "metadata": {},
   "source": [
    "- ¿En qué estados de los anteriores se verifica el teorema? ¿Por qué?\n",
    "\n",
    "En este caso el único que estado que no cumple la desigualdad de Bell es el $|\\psi_1\\rangle$. Esto es debido a que es un estado entrelazado y no cumple la primera condición de localidad. \n",
    "\n",
    "Los estados $|\\psi_2\\rangle$ y $|\\psi_4\\rangle$ aun siendo entrelazados cumplen la desigualdad debido a que el hecho de que sean estados entrelazados es una condición necesaria pero no suficiente para que no la cumplan. Por lo tanto, el estado $|\\psi_3\\rangle$ cumple la desigualdad de Bell ya que no es un estado entrelazado.\n"
   ]
  },
  {
   "cell_type": "markdown",
   "metadata": {},
   "source": [
    "## B3. ¿Cualquier sistema cuántico va a violar la desigualdad de Bell para cualquier conjunto de operadores? ¿Siempre lo hará si se encuentra en un estado entrelazado? ¿Existe un conjunto de operadores adaptados al estado $|\\psi_2\\rangle$?"
   ]
  },
  {
   "cell_type": "markdown",
   "metadata": {},
   "source": [
    "Un estado tiene la posibilidad de violar la desigualdad de Bell si es entrelazado y si hay un grupo adeacuado de observables y un estado separable nunca va a incumplir la desigualdad, por lo tanto, no cualquier sistema cuántico y cualquier conjunto de observables va a violar la desigualdad."
   ]
  },
  {
   "cell_type": "markdown",
   "metadata": {},
   "source": [
    "Con el resultado anterior vemos que el estado $|\\psi_2\\rangle$ cumple la desigualdad para el conjunto de operadores dado, por lo tanto esos son unos observables adaptados a ese estado. "
   ]
  }
 ],
 "metadata": {
  "kernelspec": {
   "display_name": "Python 3 (ipykernel)",
   "language": "python",
   "name": "python3"
  },
  "language_info": {
   "codemirror_mode": {
    "name": "ipython",
    "version": 3
   },
   "file_extension": ".py",
   "mimetype": "text/x-python",
   "name": "python",
   "nbconvert_exporter": "python",
   "pygments_lexer": "ipython3",
   "version": "3.11.5"
  },
  "widgets": {
   "application/vnd.jupyter.widget-state+json": {
    "state": {},
    "version_major": 2,
    "version_minor": 0
   }
  }
 },
 "nbformat": 4,
 "nbformat_minor": 4
}
